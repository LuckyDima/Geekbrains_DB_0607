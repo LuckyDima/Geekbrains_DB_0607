{
 "cells": [
  {
   "cell_type": "markdown",
   "metadata": {},
   "source": [
    "### Тема \"Основы клиент - серверного взаимодействия. Парсинг API\" \n",
    "> * Задание 1: \n",
    "Посмотреть документацию к API гитхаба, разобраться как вывести список репозиториев для конкретного пользователя, сохранить JSON-вывод в файле *.json\n",
    "> * Задание 2:\n",
    "Изучить список открытых API. Найти среди них любое, которое требует авторизацию (любого типа). Выполнить запросы к нему, пройдя авторизацию.  Результат ответа от сервера записать в файл \n"
   ]
  },
  {
   "cell_type": "markdown",
   "metadata": {},
   "source": [
    "### Задание 1\n",
    "> 1. Посмотреть документацию к API гитхаба, разобраться как вывести список репозиториев для конкретного пользователя, сохранить JSON-вывод в файле *.json"
   ]
  },
  {
   "cell_type": "code",
   "execution_count": 1,
   "metadata": {},
   "outputs": [
    {
     "name": "stdout",
     "output_type": "stream",
     "text": [
      "Requirement already satisfied: PyGithub in c:\\programdata\\anaconda3\\lib\\site-packages (1.43.8)\n",
      "Requirement already satisfied: deprecated in c:\\programdata\\anaconda3\\lib\\site-packages (from PyGithub) (1.2.6)\n",
      "Requirement already satisfied: requests>=2.14.0 in c:\\programdata\\anaconda3\\lib\\site-packages (from PyGithub) (2.21.0)\n",
      "Requirement already satisfied: pyjwt in c:\\programdata\\anaconda3\\lib\\site-packages (from PyGithub) (1.7.1)\n",
      "Requirement already satisfied: wrapt<2,>=1.10 in c:\\programdata\\anaconda3\\lib\\site-packages (from deprecated->PyGithub) (1.11.1)\n",
      "Requirement already satisfied: urllib3<1.25,>=1.21.1 in c:\\programdata\\anaconda3\\lib\\site-packages (from requests>=2.14.0->PyGithub) (1.24.1)\n",
      "Requirement already satisfied: chardet<3.1.0,>=3.0.2 in c:\\programdata\\anaconda3\\lib\\site-packages (from requests>=2.14.0->PyGithub) (3.0.4)\n",
      "Requirement already satisfied: idna<2.9,>=2.5 in c:\\programdata\\anaconda3\\lib\\site-packages (from requests>=2.14.0->PyGithub) (2.8)\n",
      "Requirement already satisfied: certifi>=2017.4.17 in c:\\programdata\\anaconda3\\lib\\site-packages (from requests>=2.14.0->PyGithub) (2019.3.9)\n",
      "Note: you may need to restart the kernel to use updated packages.\n"
     ]
    }
   ],
   "source": [
    "pip install PyGithub;"
   ]
  },
  {
   "cell_type": "code",
   "execution_count": 2,
   "metadata": {},
   "outputs": [
    {
     "name": "stdout",
     "output_type": "stream",
     "text": [
      "Requirement already satisfied: requests in c:\\programdata\\anaconda3\\lib\\site-packages (2.21.0)\n",
      "Requirement already satisfied: chardet<3.1.0,>=3.0.2 in c:\\programdata\\anaconda3\\lib\\site-packages (from requests) (3.0.4)\n",
      "Requirement already satisfied: idna<2.9,>=2.5 in c:\\programdata\\anaconda3\\lib\\site-packages (from requests) (2.8)\n",
      "Requirement already satisfied: certifi>=2017.4.17 in c:\\programdata\\anaconda3\\lib\\site-packages (from requests) (2019.3.9)\n",
      "Requirement already satisfied: urllib3<1.25,>=1.21.1 in c:\\programdata\\anaconda3\\lib\\site-packages (from requests) (1.24.1)\n",
      "Note: you may need to restart the kernel to use updated packages.\n"
     ]
    }
   ],
   "source": [
    "pip install requests;"
   ]
  },
  {
   "cell_type": "code",
   "execution_count": 3,
   "metadata": {},
   "outputs": [],
   "source": [
    "import requests\n",
    "from github import Github\n",
    "from pprint import pprint"
   ]
  },
  {
   "cell_type": "markdown",
   "metadata": {},
   "source": [
    "* через библиотеку resuest Python"
   ]
  },
  {
   "cell_type": "code",
   "execution_count": 4,
   "metadata": {},
   "outputs": [],
   "source": [
    "headers = {'User-agent':'Chrome/76.0.3809.100'}\n",
    "\n",
    "link = 'https://api.github.com/search/users'\n",
    "\n",
    "username = 'LuckyDima'\n",
    "\n",
    "aditional_settings = 'simple=yes&per_page=1&page=1'"
   ]
  },
  {
   "cell_type": "code",
   "execution_count": 5,
   "metadata": {},
   "outputs": [],
   "source": [
    "r = requests.get(f'{link}?q={username}&{aditional_settings}',headers = headers)"
   ]
  },
  {
   "cell_type": "code",
   "execution_count": 6,
   "metadata": {},
   "outputs": [
    {
     "data": {
      "text/plain": [
       "{'total_count': 2,\n",
       " 'incomplete_results': False,\n",
       " 'items': [{'login': 'LuckyDima',\n",
       "   'id': 42345422,\n",
       "   'node_id': 'MDQ6VXNlcjQyMzQ1NDIy',\n",
       "   'avatar_url': 'https://avatars1.githubusercontent.com/u/42345422?v=4',\n",
       "   'gravatar_id': '',\n",
       "   'url': 'https://api.github.com/users/LuckyDima',\n",
       "   'html_url': 'https://github.com/LuckyDima',\n",
       "   'followers_url': 'https://api.github.com/users/LuckyDima/followers',\n",
       "   'following_url': 'https://api.github.com/users/LuckyDima/following{/other_user}',\n",
       "   'gists_url': 'https://api.github.com/users/LuckyDima/gists{/gist_id}',\n",
       "   'starred_url': 'https://api.github.com/users/LuckyDima/starred{/owner}{/repo}',\n",
       "   'subscriptions_url': 'https://api.github.com/users/LuckyDima/subscriptions',\n",
       "   'organizations_url': 'https://api.github.com/users/LuckyDima/orgs',\n",
       "   'repos_url': 'https://api.github.com/users/LuckyDima/repos',\n",
       "   'events_url': 'https://api.github.com/users/LuckyDima/events{/privacy}',\n",
       "   'received_events_url': 'https://api.github.com/users/LuckyDima/received_events',\n",
       "   'type': 'User',\n",
       "   'site_admin': False,\n",
       "   'score': 27.408772}]}"
      ]
     },
     "execution_count": 6,
     "metadata": {},
     "output_type": "execute_result"
    }
   ],
   "source": [
    "r.json()"
   ]
  },
  {
   "cell_type": "code",
   "execution_count": 7,
   "metadata": {},
   "outputs": [],
   "source": [
    "file = open('out.json', 'w')\n",
    "file.write(str(r.json()))\n",
    "file.close()"
   ]
  },
  {
   "cell_type": "code",
   "execution_count": 8,
   "metadata": {},
   "outputs": [],
   "source": [
    "r.close()"
   ]
  },
  {
   "cell_type": "markdown",
   "metadata": {},
   "source": [
    "### Задание 2\n",
    "> 1. Изучить список открытых API. Найти среди них любое, которое требует авторизацию (любого типа). \n",
    "> 2. Выполнить запросы к нему, пройдя авторизацию. Результат ответа от сервера записать в файл"
   ]
  },
  {
   "cell_type": "markdown",
   "metadata": {},
   "source": [
    "* Через библиотеку Github"
   ]
  },
  {
   "cell_type": "code",
   "execution_count": 13,
   "metadata": {},
   "outputs": [
    {
     "name": "stdout",
     "output_type": "stream",
     "text": [
      "Geekbrains_DB_0607\n",
      "mlcourse.ai\n"
     ]
    }
   ],
   "source": [
    "from github import Github\n",
    "ACCESS_TOKEN = '8766e8674d5e8d5615aacec0cac84f55ddf85b1a'\n",
    "gh_token = Github(ACCESS_TOKEN)\n",
    "\n",
    "for repo in gh_token.get_user().get_repos():\n",
    "    print(repo.name)"
   ]
  },
  {
   "cell_type": "markdown",
   "metadata": {},
   "source": [
    "* Через token"
   ]
  },
  {
   "cell_type": "code",
   "execution_count": 14,
   "metadata": {},
   "outputs": [
    {
     "data": {
      "text/plain": [
       "{'login': 'LuckyDima',\n",
       " 'id': 42345422,\n",
       " 'node_id': 'MDQ6VXNlcjQyMzQ1NDIy',\n",
       " 'avatar_url': 'https://avatars1.githubusercontent.com/u/42345422?v=4',\n",
       " 'gravatar_id': '',\n",
       " 'url': 'https://api.github.com/users/LuckyDima',\n",
       " 'html_url': 'https://github.com/LuckyDima',\n",
       " 'followers_url': 'https://api.github.com/users/LuckyDima/followers',\n",
       " 'following_url': 'https://api.github.com/users/LuckyDima/following{/other_user}',\n",
       " 'gists_url': 'https://api.github.com/users/LuckyDima/gists{/gist_id}',\n",
       " 'starred_url': 'https://api.github.com/users/LuckyDima/starred{/owner}{/repo}',\n",
       " 'subscriptions_url': 'https://api.github.com/users/LuckyDima/subscriptions',\n",
       " 'organizations_url': 'https://api.github.com/users/LuckyDima/orgs',\n",
       " 'repos_url': 'https://api.github.com/users/LuckyDima/repos',\n",
       " 'events_url': 'https://api.github.com/users/LuckyDima/events{/privacy}',\n",
       " 'received_events_url': 'https://api.github.com/users/LuckyDima/received_events',\n",
       " 'type': 'User',\n",
       " 'site_admin': False,\n",
       " 'name': 'Dmitriy Ivanov',\n",
       " 'company': None,\n",
       " 'blog': '',\n",
       " 'location': 'Russia Spb',\n",
       " 'email': None,\n",
       " 'hireable': None,\n",
       " 'bio': None,\n",
       " 'public_repos': 2,\n",
       " 'public_gists': 2,\n",
       " 'followers': 1,\n",
       " 'following': 1,\n",
       " 'created_at': '2018-08-13T12:35:10Z',\n",
       " 'updated_at': '2019-06-18T20:10:32Z'}"
      ]
     },
     "execution_count": 14,
     "metadata": {},
     "output_type": "execute_result"
    }
   ],
   "source": [
    "headers = {'Authorization': 'token ' + ACCESS_TOKEN}\n",
    "\n",
    "r = requests.get('https://api.github.com/user', headers=headers)\n",
    "r.json()"
   ]
  },
  {
   "cell_type": "code",
   "execution_count": 15,
   "metadata": {},
   "outputs": [],
   "source": [
    "file = open('out2.json', 'w')\n",
    "file.write(str(r.json()))\n",
    "file.close()"
   ]
  },
  {
   "cell_type": "code",
   "execution_count": 16,
   "metadata": {},
   "outputs": [],
   "source": [
    "r.close()"
   ]
  }
 ],
 "metadata": {
  "kernelspec": {
   "display_name": "Python 3",
   "language": "python",
   "name": "python3"
  },
  "language_info": {
   "codemirror_mode": {
    "name": "ipython",
    "version": 3
   },
   "file_extension": ".py",
   "mimetype": "text/x-python",
   "name": "python",
   "nbconvert_exporter": "python",
   "pygments_lexer": "ipython3",
   "version": "3.7.3"
  }
 },
 "nbformat": 4,
 "nbformat_minor": 2
}
