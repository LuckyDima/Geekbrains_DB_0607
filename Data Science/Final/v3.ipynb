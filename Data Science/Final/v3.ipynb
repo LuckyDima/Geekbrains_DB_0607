{
 "cells": [
  {
   "cell_type": "markdown",
   "metadata": {},
   "source": [
    "###### Курсовой проект для курса \"Python для Data Science\"\n",
    "\n",
    "###### Материалы к проекту (файлы): train.csv test.csv\n",
    "\n",
    "## Задание: \n",
    "> Используя данные из train.csv, построить модель для предсказания цен на недвижимость (квартиры). \n",
    "> С помощью полученной модели предсказать цены для квартир из файла test.csv.\n",
    "\n",
    "##### Целевая переменная: \n",
    "* Price\n",
    "\n",
    "##### Основная метрика: \n",
    "* R2 - коэффициент детерминации (sklearn.metrics.r2_score)\n",
    "\n",
    "##### Вспомогательная метрика: \n",
    "* MSE - средняя квадратичная ошибка (sklearn.metrics.mean_squared_error)\n",
    "\n",
    "## Сдача проекта: \n",
    ">1. Прислать в раздел Задания Урока 12 (\"Вебинар. Консультация по итоговому проекту\") ссылку на программу в github (программа должна содержаться в файле Jupyter Notebook  с расширением ipynb). \n",
    ">2. Приложить файл с названием по образцу SShirkin_predictions.csv с предсказанными ценами для квартир из test.csv (файл должен содержать два поля: Id, Price).\n",
    "\n",
    "##### Сроки сдачи: \n",
    "* Сдать проект за 72 часа до начала Урока 13 (\"Вебинар. Результаты итоговых проектов и закрытие курса\").\n",
    "\n",
    "##### Примечание: Все файлы csv должны содержать названия полей (header - то есть \"шапку\"), разделитель - запятая. В файлах не должны содержаться индексы из датафрейма."
   ]
  },
  {
   "cell_type": "markdown",
   "metadata": {},
   "source": [
    "#####  Подключаем библиотеки."
   ]
  },
  {
   "cell_type": "code",
   "execution_count": 1,
   "metadata": {},
   "outputs": [],
   "source": [
    "import numpy as np\n",
    "import pandas as pd\n",
    "import random\n",
    "\n",
    "from sklearn.model_selection import train_test_split, cross_val_score\n",
    "from sklearn.preprocessing import StandardScaler\n",
    "from sklearn.ensemble import RandomForestRegressor\n",
    "from sklearn.metrics import r2_score as r2\n",
    "from sklearn.model_selection import KFold, GridSearchCV\n",
    "\n",
    "import matplotlib\n",
    "import matplotlib.pyplot as plt\n",
    "import seaborn as sns\n",
    "%matplotlib inline\n",
    "plt.style.use(['fivethirtyeight'])\n",
    "import warnings\n",
    "warnings.filterwarnings('ignore')\n",
    "matplotlib.rcParams.update({'font.size': 14})\n",
    "\n",
    "import numpy as np\n",
    "import pandas as pd\n",
    "import matplotlib.pyplot as plt\n",
    "\n",
    "from time import gmtime"
   ]
  },
  {
   "cell_type": "code",
   "execution_count": 2,
   "metadata": {},
   "outputs": [],
   "source": [
    "SOURCE_TRAIN_CSV = 'C:/Users/dmitriy.ivanov/Downloads/Kurs_project_task/train.csv'\n",
    "SOURCE_TEST_CSV = 'C:/Users/dmitriy.ivanov/Downloads/Kurs_project_task/test.csv'\n",
    "df_train = pd.read_csv(SOURCE_TRAIN_CSV)\n",
    "df_test = pd.read_csv(SOURCE_TEST_CSV)\n",
    "filename = 'DmitriyIvanov_pred.csv'"
   ]
  },
  {
   "cell_type": "markdown",
   "metadata": {},
   "source": [
    "##### Функция межквартильного размаха."
   ]
  },
  {
   "cell_type": "code",
   "execution_count": 3,
   "metadata": {},
   "outputs": [],
   "source": [
    "def ir(name):\n",
    "    a = df_train.loc[df_train[name] > 0,name].describe()\n",
    "    eps = (a['75%'] - a['25%'])\n",
    "    i_min = (a['25%'] - 1.5 * eps).astype(int)\n",
    "    if i_min < 0:\n",
    "        i_min = 0\n",
    "    i_max = (a['75%'] + 1.5 * eps).astype(int) + 1\n",
    "    df_i_range = pd.Series([i_min,i_max])\n",
    "    return df_i_range\n",
    "\n",
    "def irt(name):\n",
    "    a = df_test.loc[df_test[name] > 0,name].describe()\n",
    "    eps = (a['75%'] - a['25%'])\n",
    "    i_min = (a['25%'] - 1.5 * eps).astype(int)\n",
    "    if i_min < 0:\n",
    "        i_min = 0\n",
    "    i_max = (a['75%'] + 1.5 * eps).astype(int) + 1\n",
    "    df_i_range = pd.Series([i_min,i_max])\n",
    "    return df_i_range"
   ]
  },
  {
   "cell_type": "markdown",
   "metadata": {},
   "source": [
    "##### Функция графика (повзаимствованная)"
   ]
  },
  {
   "cell_type": "code",
   "execution_count": 4,
   "metadata": {},
   "outputs": [],
   "source": [
    "def evaluate_preds(train_true_values, train_pred_values, test_true_values, test_pred_values):\n",
    "    print(\"Train R2:\\t\" + str(round(r2(train_true_values, train_pred_values), 3)))\n",
    "    print(\"Test R2:\\t\" + str(round(r2(test_true_values, test_pred_values), 3)))\n",
    "    \n",
    "    plt.figure(figsize=(18,10))\n",
    "    \n",
    "    plt.subplot(121)\n",
    "    sns.scatterplot(x=train_pred_values, y=train_true_values)\n",
    "    plt.xlabel('Predicted values')\n",
    "    plt.ylabel('True values')\n",
    "    plt.title('Train sample prediction')\n",
    "    \n",
    "    plt.subplot(122)\n",
    "    sns.scatterplot(x=test_pred_values, y=test_true_values)\n",
    "    plt.xlabel('Predicted values')\n",
    "    plt.ylabel('True values')\n",
    "    plt.title('Test sample prediction')\n",
    "\n",
    "    plt.show()"
   ]
  },
  {
   "cell_type": "markdown",
   "metadata": {},
   "source": [
    "##### Удалим дубликаты, если таковые имеются."
   ]
  },
  {
   "cell_type": "code",
   "execution_count": 5,
   "metadata": {},
   "outputs": [],
   "source": [
    "df_train.drop_duplicates();"
   ]
  },
  {
   "cell_type": "markdown",
   "metadata": {},
   "source": [
    "##### Проверим наш датасет на null значения."
   ]
  },
  {
   "cell_type": "code",
   "execution_count": 6,
   "metadata": {},
   "outputs": [],
   "source": [
    "df_train.isnull().any();"
   ]
  },
  {
   "cell_type": "markdown",
   "metadata": {},
   "source": [
    "##### Приведем типы"
   ]
  },
  {
   "cell_type": "code",
   "execution_count": 7,
   "metadata": {},
   "outputs": [],
   "source": [
    "df_train.dtypes;"
   ]
  },
  {
   "cell_type": "markdown",
   "metadata": {},
   "source": [
    "##### Приведем некоторые типы к целым значениям"
   ]
  },
  {
   "cell_type": "code",
   "execution_count": 8,
   "metadata": {},
   "outputs": [],
   "source": [
    "df_train['Rooms'] = df_train['Rooms'].astype(int)\n",
    "df_train['HouseFloor'] = df_train['HouseFloor'].astype(int)\n",
    "df_train['Floor'] = df_train['Floor'].astype(int)\n",
    "df_train['Id'] = df_train['Id'].astype(int)\n",
    "df_train['DistrictId'] = df_train['DistrictId'].astype(int)\n",
    "df_train['HouseYear'] = df_train['HouseYear'].astype(int)\n",
    "\n",
    "\n",
    "df_test['Rooms'] = df_test['Rooms'].astype(int)\n",
    "df_test['HouseFloor'] = df_test['HouseFloor'].astype(int)\n",
    "df_test['Floor'] = df_test['Floor'].astype(int)\n",
    "df_test['Id'] = df_test['Id'].astype(int)\n",
    "df_test['DistrictId'] = df_test['DistrictId'].astype(int)\n",
    "df_test['HouseYear'] = df_test['HouseYear'].astype(int)"
   ]
  },
  {
   "cell_type": "markdown",
   "metadata": {},
   "source": [
    "##### Поправим год строительства"
   ]
  },
  {
   "cell_type": "code",
   "execution_count": 9,
   "metadata": {},
   "outputs": [],
   "source": [
    "x_min_year = ir('HouseYear')[0]\n",
    "x_max_year = gmtime().tm_year + 1\n",
    "year_median = df_train.loc[df_train['HouseYear'].apply(lambda x: x <= x_max_year and x >= x_min_year),'HouseYear'].median()\n",
    "df_train.loc[df_train['HouseYear'].apply(lambda x: x <= x_min_year or x >= x_max_year),'HouseYear'] = year_median\n",
    "df_train['HouseYear'] = df_train['HouseYear'].astype(int)\n",
    "\n",
    "\n",
    "x_min_year = irt('HouseYear')[0]\n",
    "x_max_year = gmtime().tm_year + 1\n",
    "year_median = df_test.loc[df_test['HouseYear'].apply(lambda x: x <= x_max_year and x >= x_min_year),'HouseYear'].median()\n",
    "df_test.loc[df_test['HouseYear'].apply(lambda x: x <= x_min_year or x >= x_max_year),'HouseYear'] = year_median\n",
    "df_test['HouseYear'] = df_test['HouseYear'].astype(int)\n"
   ]
  },
  {
   "cell_type": "markdown",
   "metadata": {},
   "source": [
    "### Поправим этажность домов"
   ]
  },
  {
   "cell_type": "markdown",
   "metadata": {},
   "source": [
    "##### Исправим нулевые этаж"
   ]
  },
  {
   "cell_type": "code",
   "execution_count": 10,
   "metadata": {},
   "outputs": [],
   "source": [
    "df_train.loc[df_train['HouseFloor'] == 0, 'HouseFloor'] =\\\n",
    "df_train[{'HouseFloor','DistrictId'}].groupby('DistrictId')['HouseFloor'].median()\n",
    "\n",
    "\n",
    "df_test.loc[df_test['HouseFloor'] == 0, 'HouseFloor'] =\\\n",
    "df_test[{'HouseFloor','DistrictId'}].groupby('DistrictId')['HouseFloor'].median()"
   ]
  },
  {
   "cell_type": "markdown",
   "metadata": {},
   "source": [
    "##### Посчитаем медианную высоту дома в районе"
   ]
  },
  {
   "cell_type": "code",
   "execution_count": 11,
   "metadata": {},
   "outputs": [],
   "source": [
    "med_house_floor_by_district_train = df_train.loc[(df_train['Floor'] < df_train['HouseFloor']) |\\\n",
    "                                          (~df_train['HouseFloor'].isnull()), {'HouseFloor','DistrictId'}]\\\n",
    ".groupby('DistrictId')['HouseFloor'].median().astype(int)\n",
    "\n",
    "\n",
    "med_house_floor_by_district_test = df_test.loc[(df_test['Floor'] < df_test['HouseFloor']) |\\\n",
    "                                          (~df_test['HouseFloor'].isnull()), {'HouseFloor','DistrictId'}]\\\n",
    ".groupby('DistrictId')['HouseFloor'].median().astype(int)"
   ]
  },
  {
   "cell_type": "code",
   "execution_count": 12,
   "metadata": {},
   "outputs": [],
   "source": [
    "q_train = df_train.loc[df_train['HouseFloor'].isnull(),{'HouseFloor','DistrictId'}].\\\n",
    "merge(med_house_floor_by_district_train, on = 'DistrictId',how='left')['HouseFloor_y'].round().astype(int)\n",
    "\n",
    "\n",
    "q_test = df_test.loc[df_test['HouseFloor'].isnull(),{'HouseFloor','DistrictId'}].\\\n",
    "merge(med_house_floor_by_district_test, on = 'DistrictId',how='left')['HouseFloor_y'].round().astype(int)"
   ]
  },
  {
   "cell_type": "code",
   "execution_count": 13,
   "metadata": {},
   "outputs": [],
   "source": [
    "df_train.loc[df_train['HouseFloor'].isnull(),'HouseFloor'] = q_train.values\n",
    "\n",
    "\n",
    "df_test.loc[df_test['HouseFloor'].isnull(),'HouseFloor'] = q_test.values"
   ]
  },
  {
   "cell_type": "markdown",
   "metadata": {},
   "source": [
    "##### Обработаем выбросы по этажам исползуя межквартильный размах."
   ]
  },
  {
   "cell_type": "code",
   "execution_count": 14,
   "metadata": {},
   "outputs": [],
   "source": [
    "hf75 = df_train['HouseFloor'].quantile(.75)\n",
    "hf25 = df_train['HouseFloor'].quantile(.25)\n",
    "hf_max = hf75 + 1.5* (hf75-hf25)\n",
    "df_train.loc[(df_train['HouseFloor'] > hf_max) | (df_train['HouseFloor'] <=0), 'HouseFloor'] =\\\n",
    "int(round(df_train['HouseFloor'].median()))\n",
    "\n",
    "\n",
    "hf75 = df_test['HouseFloor'].quantile(.75)\n",
    "hf25 = df_test['HouseFloor'].quantile(.25)\n",
    "hf_max = hf75 + 1.5* (hf75-hf25)\n",
    "df_test.loc[(df_test['HouseFloor'] > hf_max) | (df_test['HouseFloor'] <=0), 'HouseFloor'] =\\\n",
    "int(round(df_test['HouseFloor'].median()))"
   ]
  },
  {
   "cell_type": "code",
   "execution_count": 15,
   "metadata": {},
   "outputs": [],
   "source": [
    "df_train.loc[(df_train['Floor'] <= 0)] = df_train['Floor'].median()\n",
    "\n",
    "\n",
    "df_test.loc[(df_test['Floor'] <= 0)] = df_test['Floor'].median()"
   ]
  },
  {
   "cell_type": "code",
   "execution_count": 16,
   "metadata": {},
   "outputs": [],
   "source": [
    "df_train['HouseFloor'] = df_train['HouseFloor'].astype(int)\n",
    "\n",
    "\n",
    "df_test['HouseFloor'] = df_test['HouseFloor'].astype(int)"
   ]
  },
  {
   "cell_type": "markdown",
   "metadata": {},
   "source": [
    "###### Проверим где этаж квартиры выше чем этаж дома или отсутствует и установим этаж квартиры не более чем этаж дома"
   ]
  },
  {
   "cell_type": "code",
   "execution_count": 17,
   "metadata": {},
   "outputs": [],
   "source": [
    "df_train.loc[(df_train['Floor'] > df_train['HouseFloor']) |(df_train['Floor'].isnull()), 'Floor'] =\\\n",
    "df_train['HouseFloor'].apply(lambda x: random.randint(1, x))\n",
    "\n",
    "\n",
    "df_test.loc[(df_test['Floor'] > df_test['HouseFloor']) |(df_test['Floor'].isnull()), 'Floor'] =\\\n",
    "df_test['HouseFloor'].apply(lambda x: random.randint(1, x))"
   ]
  },
  {
   "cell_type": "markdown",
   "metadata": {},
   "source": [
    "##### Поправим выбросы по комнатам "
   ]
  },
  {
   "cell_type": "code",
   "execution_count": 18,
   "metadata": {},
   "outputs": [],
   "source": [
    "df_train['Rooms'].value_counts();\n",
    "df_test['Rooms'].value_counts();"
   ]
  },
  {
   "cell_type": "markdown",
   "metadata": {},
   "source": [
    "##### Для начала вычислим медианное значение кол-ва комнат по району и году постройки"
   ]
  },
  {
   "cell_type": "code",
   "execution_count": 19,
   "metadata": {},
   "outputs": [],
   "source": [
    "filter1 = df_train.loc[~((df_train['Rooms'] == 0) | (df_train['Rooms'] > 6)) ,{'DistrictId','HouseYear','Rooms'}]\n",
    "filter1 = filter1.groupby(['DistrictId','HouseYear']).median()\n",
    "a = df_train.loc[(df_train['Rooms'] == 0) | (df_train['Rooms'] > 6),{'DistrictId','HouseYear','Rooms'}]\n",
    "b = pd.merge(a, filter1, on=['DistrictId','HouseYear'],how='left')\n",
    "\n",
    "\n",
    "filter1 = df_test.loc[~((df_test['Rooms'] == 0) | (df_test['Rooms'] > 6)) ,{'DistrictId','HouseYear','Rooms'}]\n",
    "filter1 = filter1.groupby(['DistrictId','HouseYear']).median()\n",
    "aa = df_test.loc[(df_test['Rooms'] == 0) | (df_test['Rooms'] > 6),{'DistrictId','HouseYear','Rooms'}]\n",
    "bb = pd.merge(a, filter1, on=['DistrictId','HouseYear'],how='left')"
   ]
  },
  {
   "cell_type": "markdown",
   "metadata": {},
   "source": [
    "##### Проверим, что нет null значений"
   ]
  },
  {
   "cell_type": "code",
   "execution_count": 20,
   "metadata": {},
   "outputs": [],
   "source": [
    "df_train['Rooms'].isnull().any();\n",
    "\n",
    "\n",
    "df_test['Rooms'].isnull().any();"
   ]
  },
  {
   "cell_type": "markdown",
   "metadata": {},
   "source": [
    "##### Изменим неправильные начения на медианные"
   ]
  },
  {
   "cell_type": "code",
   "execution_count": 21,
   "metadata": {},
   "outputs": [],
   "source": [
    "df_train.loc[(df_train['Rooms'] == 0) | (df_train['Rooms'] > 6), 'Rooms'] =\\\n",
    "b['Rooms_y'].median()\n",
    "\n",
    "\n",
    "df_test.loc[(df_test['Rooms'] == 0) | (df_test['Rooms'] > 6), 'Rooms'] =\\\n",
    "bb['Rooms_y'].median()"
   ]
  },
  {
   "cell_type": "markdown",
   "metadata": {},
   "source": [
    "##### Разберемся с площадью кухни\n",
    "> 1. Поправим большие значения выходящие за максимальный размах более чем в 2 раза. В нашем случаее размах = 22\n",
    "> 2. Поправим все кухни менее 5 метров на медианное значение"
   ]
  },
  {
   "cell_type": "code",
   "execution_count": 22,
   "metadata": {},
   "outputs": [],
   "source": [
    "x_min_ksquare = ir('KitchenSquare')[0]\n",
    "x_max_ksquare = ir('KitchenSquare')[1]\n",
    "x_med_ksquare = df_train['KitchenSquare'].median()\n",
    "df_train.loc[df_train['KitchenSquare'] > x_max_ksquare, 'KitchenSquare'] = x_max_ksquare\n",
    "df_train.loc[df_train['KitchenSquare'] < 5, 'KitchenSquare'] = x_med_ksquare\n",
    "\n",
    "\n",
    "x_min_ksquare = irt('KitchenSquare')[0]\n",
    "x_max_ksquare = irt('KitchenSquare')[1]\n",
    "x_med_ksquare = df_test['KitchenSquare'].median()\n",
    "df_test.loc[df_test['KitchenSquare'] > x_max_ksquare, 'KitchenSquare'] = x_max_ksquare\n",
    "df_test.loc[df_test['KitchenSquare'] < 5, 'KitchenSquare'] = x_med_ksquare"
   ]
  },
  {
   "cell_type": "markdown",
   "metadata": {},
   "source": [
    "##### Посмотрим на площадь кухонь менее 5 метров. Логично пердположить, что таких должно быть немного, но картина другая"
   ]
  },
  {
   "cell_type": "code",
   "execution_count": 23,
   "metadata": {},
   "outputs": [],
   "source": [
    "df_train.loc[df_train['KitchenSquare'] < 5, 'KitchenSquare'].value_counts();\n",
    "\n",
    "\n",
    "df_test.loc[df_test['KitchenSquare'] < 5, 'KitchenSquare'].value_counts();"
   ]
  },
  {
   "cell_type": "code",
   "execution_count": 24,
   "metadata": {},
   "outputs": [],
   "source": [
    "df_train['KitchenSquare'].describe();\n",
    "\n",
    "df_test['KitchenSquare'].describe();"
   ]
  },
  {
   "cell_type": "markdown",
   "metadata": {},
   "source": [
    "##### Healthcare_1 Заполним пустые значения медианными и заполним значения которые выходят за размах"
   ]
  },
  {
   "cell_type": "code",
   "execution_count": 25,
   "metadata": {},
   "outputs": [],
   "source": [
    "x_min_h1 = ir('Healthcare_1')[0]\n",
    "x_max_h1 = ir('Healthcare_1')[1]\n",
    "h1_median = df_train.loc[df_train['Healthcare_1'].apply(lambda x: x <= x_max_h1 and x >= x_min_h1),'Healthcare_1'].median()\n",
    "df_train.loc[df_train['Healthcare_1'].isnull() == True, 'Healthcare_1'] = df_train['Healthcare_1'].median()\n",
    "df_train.loc[df_train['Healthcare_1'].apply(lambda x: x <= x_min_h1 or x >= x_max_h1),'Healthcare_1'] = h1_median\n",
    "\n",
    "\n",
    "x_min_h1 = irt('Healthcare_1')[0]\n",
    "x_max_h1 = irt('Healthcare_1')[1]\n",
    "h1_median = df_test.loc[df_test['Healthcare_1'].apply(lambda x: x <= x_max_h1 and x >= x_min_h1),'Healthcare_1'].median()\n",
    "df_test.loc[df_test['Healthcare_1'].isnull() == True, 'Healthcare_1'] = df_test['Healthcare_1'].median()\n",
    "df_test.loc[df_test['Healthcare_1'].apply(lambda x: x <= x_min_h1 or x >= x_max_h1),'Healthcare_1'] = h1_median"
   ]
  },
  {
   "cell_type": "markdown",
   "metadata": {},
   "source": [
    "##### Healthcare_2 распределение выглядит  нормальным, менять не будем"
   ]
  },
  {
   "cell_type": "code",
   "execution_count": 26,
   "metadata": {},
   "outputs": [],
   "source": [
    "df_train['Helthcare_2'].sort_values().value_counts();\n",
    "df_test['Helthcare_2'].sort_values().value_counts();"
   ]
  },
  {
   "cell_type": "markdown",
   "metadata": {},
   "source": [
    "##### Исправим выбросы для общей площади"
   ]
  },
  {
   "cell_type": "code",
   "execution_count": 27,
   "metadata": {},
   "outputs": [],
   "source": [
    "s25 = df_train['Square'].quantile(.25) \n",
    "s75 = df_train['Square'].quantile(.75)\n",
    "sdiff = s75 - s25\n",
    "smax = s75 + 1.5 * sdiff\n",
    "smin = s25 - 1.5 * sdiff\n",
    "df_train.loc[(df_train['Square'] > smax), 'Square'] = df_train[df_train['Square']>smax]['Square'].median()\n",
    "\n",
    "\n",
    "s25 = df_test['Square'].quantile(.25) \n",
    "s75 = df_test['Square'].quantile(.75)\n",
    "sdiff = s75 - s25\n",
    "smax = s75 + 1.5 * sdiff\n",
    "smin = s25 - 1.5 * sdiff\n",
    "df_test.loc[(df_test['Square'] > smax), 'Square'] = df_test[df_test['Square']>smax]['Square'].median()"
   ]
  },
  {
   "cell_type": "code",
   "execution_count": 28,
   "metadata": {},
   "outputs": [],
   "source": [
    "s25 = df_train['Square'].quantile(.25) \n",
    "s75 = df_train['Square'].quantile(.75)\n",
    "sdiff = s75 - s25\n",
    "smax = s75 + 1.5*sdiff\n",
    "smin = s25 - 1.5*sdiff\n",
    "df_train.loc[df_train['Square'] < smin, 'Square'] = df_train[(df_train['Square'] > smin)&(df_train['Square'] < smax)]['Square'].mean()\n",
    "\n",
    "\n",
    "s25 = df_test['Square'].quantile(.25) \n",
    "s75 = df_test['Square'].quantile(.75)\n",
    "sdiff = s75 - s25\n",
    "smax = s75 + 1.5*sdiff\n",
    "smin = s25 - 1.5*sdiff\n",
    "df_test.loc[df_test['Square'] < smin, 'Square'] = df_test[(df_test['Square'] > smin)&(df_test['Square'] < smax)]['Square'].mean()"
   ]
  },
  {
   "cell_type": "code",
   "execution_count": 29,
   "metadata": {},
   "outputs": [],
   "source": [
    "#p25 = df_train['Price'].quantile(.25) \n",
    "#p75 = df_train['Price'].quantile(.75)\n",
    "#pdiff = p75 - p25\n",
    "#pmax = p75 + 1.5*pdiff\n",
    "#pmin = p25 - 1.5*pdiff\n",
    "#df_train = df_train.drop(df_train[(df_train['Square'] < smin) & (df_train['Price'] < pmin)].index)\n",
    "#df_train[(df_train['Square'] < smin)] = df_train['Square'].median()\n",
    "#\n",
    "#\n",
    "#\n",
    "#df_test[(df_test['Square'] < smin)] = df_test['Square'].median()"
   ]
  },
  {
   "cell_type": "markdown",
   "metadata": {},
   "source": [
    "##### Заполним пустые значения жилой площади"
   ]
  },
  {
   "cell_type": "code",
   "execution_count": 30,
   "metadata": {},
   "outputs": [],
   "source": [
    "med_dif = df_train[~df_train['LifeSquare'].isnull() & ~df_train['Square'].isnull()][{'Square','LifeSquare'}]\\\n",
    ".median()['Square']-\\\n",
    "df_train[~df_train['LifeSquare'].isnull() & ~df_train['Square'].isnull()][{'Square','LifeSquare'}]\\\n",
    ".median()['LifeSquare']\n",
    "df_train.loc[df_train['LifeSquare'].isnull(),'LifeSquare'] = df_train['Square'] - med_dif\n",
    "\n",
    "\n",
    "med_dif = df_test[~df_test['LifeSquare'].isnull() & ~df_test['Square'].isnull()][{'Square','LifeSquare'}]\\\n",
    ".median()['Square']-\\\n",
    "df_test[~df_test['LifeSquare'].isnull() & ~df_test['Square'].isnull()][{'Square','LifeSquare'}]\\\n",
    ".median()['LifeSquare']\n",
    "df_test.loc[df_test['LifeSquare'].isnull(),'LifeSquare'] = df_test['Square'] - med_dif"
   ]
  },
  {
   "cell_type": "markdown",
   "metadata": {},
   "source": [
    "##### Пересчитаем значения для некорректной жилой площади"
   ]
  },
  {
   "cell_type": "code",
   "execution_count": 31,
   "metadata": {},
   "outputs": [],
   "source": [
    "df_train.loc[(df_train['LifeSquare'] > df_train['Square'] + df_train['KitchenSquare']),'LifeSquare'] =\\\n",
    "df_train['Square'] - df_train['KitchenSquare']\n",
    "\n",
    "\n",
    "df_test.loc[(df_test['LifeSquare'] > df_test['Square'] + df_test['KitchenSquare']),'LifeSquare'] =\\\n",
    "df_test['Square'] - df_test['KitchenSquare']"
   ]
  },
  {
   "cell_type": "code",
   "execution_count": 32,
   "metadata": {},
   "outputs": [],
   "source": [
    "s25 = df_train['Social_1'].quantile(.25) \n",
    "s75 = df_train['Social_1'].quantile(.75)\n",
    "sdiff = s75 - s25\n",
    "smax = s75 + 1.5 * sdiff\n",
    "smin = s25 - 1.5 * sdiff\n",
    "df_train.loc[(df_train['Social_1'] > smax), 'Social_1'] = df_train[df_train['Social_1']>smax]['Social_1'].median()\n",
    "\n",
    "\n",
    "s25 = df_test['Social_1'].quantile(.25) \n",
    "s75 = df_test['Social_1'].quantile(.75)\n",
    "sdiff = s75 - s25\n",
    "smax = s75 + 1.5 * sdiff\n",
    "smin = s25 - 1.5 * sdiff\n",
    "df_test.loc[(df_test['Social_1'] > smax), 'Social_1'] = df_test[df_test['Social_1']>smax]['Social_1'].median()"
   ]
  },
  {
   "cell_type": "markdown",
   "metadata": {},
   "source": [
    "##### Исправим неправильную общую площадь"
   ]
  },
  {
   "cell_type": "code",
   "execution_count": 33,
   "metadata": {},
   "outputs": [],
   "source": [
    "df_train.loc[(df_train['Square'] < df_train['LifeSquare']), 'Square'] =\\\n",
    "df_train[df_train['LifeSquare'] < df_train['Square']]['Square'].median()\n",
    "\n",
    "\n",
    "df_test.loc[(df_test['Square'] < df_test['LifeSquare']), 'Square'] =\\\n",
    "df_test[df_test['LifeSquare'] < df_test['Square']]['Square'].median()"
   ]
  },
  {
   "cell_type": "markdown",
   "metadata": {},
   "source": [
    "##### Экология"
   ]
  },
  {
   "cell_type": "code",
   "execution_count": 34,
   "metadata": {},
   "outputs": [],
   "source": [
    "df_train['E_2'] = df_train['Ecology_2'].replace({'A':2, 'B':1})\n",
    "df_train['E_3'] = df_train['Ecology_3'].replace({'A':2, 'B':1})\n",
    "\n",
    "\n",
    "df_test['E_2'] = df_test['Ecology_2'].replace({'A':2, 'B':1})\n",
    "df_test['E_3'] = df_test['Ecology_3'].replace({'A':2, 'B':1})"
   ]
  },
  {
   "cell_type": "markdown",
   "metadata": {},
   "source": [
    "##### Магазины"
   ]
  },
  {
   "cell_type": "code",
   "execution_count": 35,
   "metadata": {},
   "outputs": [],
   "source": [
    "df_train['S_2'] = df_train['Shops_2'].replace({'A':2, 'B':1})\n",
    "\n",
    "df_test['S_2'] = df_test['Shops_2'].replace({'A':2, 'B':1})"
   ]
  },
  {
   "cell_type": "markdown",
   "metadata": {},
   "source": [
    "##### Запишем список фичей в переменные"
   ]
  },
  {
   "cell_type": "code",
   "execution_count": 36,
   "metadata": {},
   "outputs": [],
   "source": [
    "feature_names = ['Id','DistrictId', 'Rooms', 'Square', 'LifeSquare', 'KitchenSquare', 'Floor', 'HouseFloor', 'HouseYear',\n",
    "                 'Ecology_1', 'E_2', 'E_3', 'Social_1', 'Social_2', 'Social_3',\n",
    "                 'Healthcare_1', 'Helthcare_2', 'Shops_1', 'S_2']\n",
    "target_name = 'Price'"
   ]
  },
  {
   "cell_type": "markdown",
   "metadata": {},
   "source": [
    "##### Определим датафреймы для нашей модели"
   ]
  },
  {
   "cell_type": "code",
   "execution_count": 37,
   "metadata": {},
   "outputs": [],
   "source": [
    "X = df_train[feature_names] \n",
    "y = df_train[target_name]"
   ]
  },
  {
   "cell_type": "markdown",
   "metadata": {},
   "source": [
    "##### Проверим isnull значение еще раз"
   ]
  },
  {
   "cell_type": "code",
   "execution_count": 38,
   "metadata": {},
   "outputs": [],
   "source": [
    "df_train.isnull().any();\n",
    "df_test.isnull().any();"
   ]
  },
  {
   "cell_type": "markdown",
   "metadata": {},
   "source": [
    "##### Посмотрим описание нашего датасета"
   ]
  },
  {
   "cell_type": "code",
   "execution_count": 39,
   "metadata": {},
   "outputs": [],
   "source": [
    "df_train.describe();\n",
    "df_test.describe();"
   ]
  },
  {
   "cell_type": "markdown",
   "metadata": {},
   "source": [
    "##### Обнаружены еще выбросы которые мы не поправили "
   ]
  },
  {
   "cell_type": "code",
   "execution_count": 40,
   "metadata": {},
   "outputs": [],
   "source": [
    "s_diff = df_train['Square'].median() - df_train['LifeSquare'].median()\n",
    "df_train.loc[((df_train['Square'] - df_train['LifeSquare'])<s_diff),'LifeSquare'] = (df_train['Square'] - s_diff)\n",
    "\n",
    "\n",
    "s_diff = df_test['Square'].median() - df_test['LifeSquare'].median()\n",
    "df_test.loc[((df_test['Square'] - df_test['LifeSquare'])<s_diff),'LifeSquare'] = (df_test['Square'] - s_diff)"
   ]
  },
  {
   "cell_type": "code",
   "execution_count": 41,
   "metadata": {},
   "outputs": [],
   "source": [
    "df_train['Rooms'] = df_train['Rooms'].astype(int)\n",
    "df_train['HouseFloor'] = df_train['HouseFloor'].astype(int)\n",
    "df_train['Floor'] = df_train['Floor'].astype(int)\n",
    "df_train['Id'] = df_train['Id'].astype(int)\n",
    "df_train['DistrictId'] = df_train['DistrictId'].astype(int)\n",
    "df_train['HouseYear'] = df_train['HouseYear'].astype(int)\n",
    "\n",
    "\n",
    "df_test['Rooms'] = df_test['Rooms'].astype(int)\n",
    "df_test['HouseFloor'] = df_test['HouseFloor'].astype(int)\n",
    "df_test['Floor'] = df_test['Floor'].astype(int)\n",
    "df_test['Id'] = df_test['Id'].astype(int)\n",
    "df_test['DistrictId'] = df_test['DistrictId'].astype(int)\n",
    "df_test['HouseYear'] = df_test['HouseYear'].astype(int)"
   ]
  },
  {
   "cell_type": "markdown",
   "metadata": {},
   "source": [
    "##### _ _ _ _ _ _ _ _ _ _ _ _ _ _ _ _ _ _ _ _ _ _ _ _ _ _ _ _ ___ _ _ _ _ _ _ _ _ _ _ _ _ _ _ _ _ _ _ _ _ _ _ _ _ _ _ _ _ _ _ _ _ _ _ _ _ _ _ _ _ _ _ _ _ _ _ _ _ _ _ _ "
   ]
  },
  {
   "cell_type": "markdown",
   "metadata": {},
   "source": [
    "##### Обучим нашу модель и посмотрим результаты. Подобрав гипер-параметр глубины дерева остановился на 11, т.к. данное значение показывает наилучший score на кросс-валидационной проверке"
   ]
  },
  {
   "cell_type": "code",
   "execution_count": 42,
   "metadata": {},
   "outputs": [],
   "source": [
    "X_train, X_test, y_train, y_test = train_test_split(X, y, test_size=0.33, shuffle=True, random_state=21)\n",
    "\n",
    "rf_model = RandomForestRegressor(random_state = 21, oob_score = True, max_depth = 25,\\\n",
    "                                 n_estimators = 1000, n_jobs=-1, bootstrap=True)"
   ]
  },
  {
   "cell_type": "code",
   "execution_count": 43,
   "metadata": {},
   "outputs": [
    {
     "data": {
      "text/plain": [
       "RandomForestRegressor(bootstrap=True, criterion='mse', max_depth=25,\n",
       "           max_features='auto', max_leaf_nodes=None,\n",
       "           min_impurity_decrease=0.0, min_impurity_split=None,\n",
       "           min_samples_leaf=1, min_samples_split=2,\n",
       "           min_weight_fraction_leaf=0.0, n_estimators=1000, n_jobs=-1,\n",
       "           oob_score=True, random_state=21, verbose=0, warm_start=False)"
      ]
     },
     "execution_count": 43,
     "metadata": {},
     "output_type": "execute_result"
    }
   ],
   "source": [
    "rf_model.fit(X_train, y_train)"
   ]
  },
  {
   "cell_type": "code",
   "execution_count": 44,
   "metadata": {},
   "outputs": [
    {
     "name": "stdout",
     "output_type": "stream",
     "text": [
      "Train R2:\t0.962\n",
      "Test R2:\t0.716\n"
     ]
    },
    {
     "data": {
      "image/png": "[encoded data removed]",
      "text/plain": [
       "<Figure size 1296x720 with 2 Axes>"
      ]
     },
     "metadata": {
      "needs_background": "light"
     },
     "output_type": "display_data"
    }
   ],
   "source": [
    "y_train_preds = rf_model.predict(X_train)\n",
    "y_test_preds = rf_model.predict(X_test)\n",
    "\n",
    "evaluate_preds(y_train, y_train_preds, y_test, y_test_preds)"
   ]
  },
  {
   "cell_type": "markdown",
   "metadata": {},
   "source": [
    "##### Кросс валидация"
   ]
  },
  {
   "cell_type": "code",
   "execution_count": 45,
   "metadata": {},
   "outputs": [
    {
     "data": {
      "text/plain": [
       "0.7200222173040712"
      ]
     },
     "execution_count": 45,
     "metadata": {},
     "output_type": "execute_result"
    }
   ],
   "source": [
    "cv_score = cross_val_score(rf_model, X, y, scoring='r2', cv=KFold(shuffle=True, random_state=21))\n",
    "cv_score.mean()"
   ]
  },
  {
   "cell_type": "markdown",
   "metadata": {},
   "source": [
    "##### Важность фичей, как и следовало предположить наша гипер-фича имеет топ 1"
   ]
  },
  {
   "cell_type": "code",
   "execution_count": 46,
   "metadata": {},
   "outputs": [
    {
     "data": {
      "text/html": [
       "<div>\n",
       "<style scoped>\n",
       "    .dataframe tbody tr th:only-of-type {\n",
       "        vertical-align: middle;\n",
       "    }\n",
       "\n",
       "    .dataframe tbody tr th {\n",
       "        vertical-align: top;\n",
       "    }\n",
       "\n",
       "    .dataframe thead th {\n",
       "        text-align: right;\n",
       "    }\n",
       "</style>\n",
       "<table border=\"1\" class=\"dataframe\">\n",
       "  <thead>\n",
       "    <tr style=\"text-align: right;\">\n",
       "      <th></th>\n",
       "      <th>feature_name</th>\n",
       "      <th>importance</th>\n",
       "    </tr>\n",
       "  </thead>\n",
       "  <tbody>\n",
       "    <tr>\n",
       "      <th>3</th>\n",
       "      <td>Square</td>\n",
       "      <td>0.373174</td>\n",
       "    </tr>\n",
       "    <tr>\n",
       "      <th>12</th>\n",
       "      <td>Social_1</td>\n",
       "      <td>0.097553</td>\n",
       "    </tr>\n",
       "    <tr>\n",
       "      <th>2</th>\n",
       "      <td>Rooms</td>\n",
       "      <td>0.087606</td>\n",
       "    </tr>\n",
       "    <tr>\n",
       "      <th>13</th>\n",
       "      <td>Social_2</td>\n",
       "      <td>0.082756</td>\n",
       "    </tr>\n",
       "    <tr>\n",
       "      <th>14</th>\n",
       "      <td>Social_3</td>\n",
       "      <td>0.054875</td>\n",
       "    </tr>\n",
       "    <tr>\n",
       "      <th>1</th>\n",
       "      <td>DistrictId</td>\n",
       "      <td>0.049811</td>\n",
       "    </tr>\n",
       "    <tr>\n",
       "      <th>4</th>\n",
       "      <td>LifeSquare</td>\n",
       "      <td>0.042744</td>\n",
       "    </tr>\n",
       "    <tr>\n",
       "      <th>9</th>\n",
       "      <td>Ecology_1</td>\n",
       "      <td>0.041078</td>\n",
       "    </tr>\n",
       "    <tr>\n",
       "      <th>8</th>\n",
       "      <td>HouseYear</td>\n",
       "      <td>0.029723</td>\n",
       "    </tr>\n",
       "    <tr>\n",
       "      <th>0</th>\n",
       "      <td>Id</td>\n",
       "      <td>0.028643</td>\n",
       "    </tr>\n",
       "    <tr>\n",
       "      <th>7</th>\n",
       "      <td>HouseFloor</td>\n",
       "      <td>0.024589</td>\n",
       "    </tr>\n",
       "    <tr>\n",
       "      <th>6</th>\n",
       "      <td>Floor</td>\n",
       "      <td>0.021759</td>\n",
       "    </tr>\n",
       "    <tr>\n",
       "      <th>15</th>\n",
       "      <td>Healthcare_1</td>\n",
       "      <td>0.020899</td>\n",
       "    </tr>\n",
       "    <tr>\n",
       "      <th>5</th>\n",
       "      <td>KitchenSquare</td>\n",
       "      <td>0.020363</td>\n",
       "    </tr>\n",
       "    <tr>\n",
       "      <th>17</th>\n",
       "      <td>Shops_1</td>\n",
       "      <td>0.014724</td>\n",
       "    </tr>\n",
       "    <tr>\n",
       "      <th>16</th>\n",
       "      <td>Helthcare_2</td>\n",
       "      <td>0.007394</td>\n",
       "    </tr>\n",
       "    <tr>\n",
       "      <th>10</th>\n",
       "      <td>E_2</td>\n",
       "      <td>0.000964</td>\n",
       "    </tr>\n",
       "    <tr>\n",
       "      <th>11</th>\n",
       "      <td>E_3</td>\n",
       "      <td>0.000693</td>\n",
       "    </tr>\n",
       "    <tr>\n",
       "      <th>18</th>\n",
       "      <td>S_2</td>\n",
       "      <td>0.000652</td>\n",
       "    </tr>\n",
       "  </tbody>\n",
       "</table>\n",
       "</div>"
      ],
      "text/plain": [
       "     feature_name  importance\n",
       "3          Square    0.373174\n",
       "12       Social_1    0.097553\n",
       "2           Rooms    0.087606\n",
       "13       Social_2    0.082756\n",
       "14       Social_3    0.054875\n",
       "1      DistrictId    0.049811\n",
       "4      LifeSquare    0.042744\n",
       "9       Ecology_1    0.041078\n",
       "8       HouseYear    0.029723\n",
       "0              Id    0.028643\n",
       "7      HouseFloor    0.024589\n",
       "6           Floor    0.021759\n",
       "15   Healthcare_1    0.020899\n",
       "5   KitchenSquare    0.020363\n",
       "17        Shops_1    0.014724\n",
       "16    Helthcare_2    0.007394\n",
       "10            E_2    0.000964\n",
       "11            E_3    0.000693\n",
       "18            S_2    0.000652"
      ]
     },
     "execution_count": 46,
     "metadata": {},
     "output_type": "execute_result"
    }
   ],
   "source": [
    "feature_importances = pd.DataFrame(zip(X_train.columns, rf_model.feature_importances_), \n",
    "                                   columns=['feature_name', 'importance'])\n",
    "\n",
    "feature_importances.sort_values(by = 'importance', ascending = False)"
   ]
  },
  {
   "cell_type": "markdown",
   "metadata": {},
   "source": [
    "### Прогнозирование на тестовом датасете\n",
    "\n",
    "> 1. Выполнить для тестового датасета те же этапы обработки и постронияния признаков\n",
    "> 2. Не потерять и не перемешать индексы от примеров при построении прогнозов\n",
    "> 3. Прогнозы должны быть для все примеров из тестового датасета (для всех строк)"
   ]
  },
  {
   "cell_type": "code",
   "execution_count": 47,
   "metadata": {},
   "outputs": [
    {
     "data": {
      "text/html": [
       "<div>\n",
       "<style scoped>\n",
       "    .dataframe tbody tr th:only-of-type {\n",
       "        vertical-align: middle;\n",
       "    }\n",
       "\n",
       "    .dataframe tbody tr th {\n",
       "        vertical-align: top;\n",
       "    }\n",
       "\n",
       "    .dataframe thead th {\n",
       "        text-align: right;\n",
       "    }\n",
       "</style>\n",
       "<table border=\"1\" class=\"dataframe\">\n",
       "  <thead>\n",
       "    <tr style=\"text-align: right;\">\n",
       "      <th></th>\n",
       "      <th>Id</th>\n",
       "      <th>DistrictId</th>\n",
       "      <th>Rooms</th>\n",
       "      <th>Square</th>\n",
       "      <th>LifeSquare</th>\n",
       "      <th>KitchenSquare</th>\n",
       "      <th>Floor</th>\n",
       "      <th>HouseFloor</th>\n",
       "      <th>HouseYear</th>\n",
       "      <th>Ecology_1</th>\n",
       "      <th>...</th>\n",
       "      <th>Social_1</th>\n",
       "      <th>Social_2</th>\n",
       "      <th>Social_3</th>\n",
       "      <th>Healthcare_1</th>\n",
       "      <th>Helthcare_2</th>\n",
       "      <th>Shops_1</th>\n",
       "      <th>Shops_2</th>\n",
       "      <th>E_2</th>\n",
       "      <th>E_3</th>\n",
       "      <th>S_2</th>\n",
       "    </tr>\n",
       "  </thead>\n",
       "  <tbody>\n",
       "    <tr>\n",
       "      <th>0</th>\n",
       "      <td>725</td>\n",
       "      <td>58</td>\n",
       "      <td>2</td>\n",
       "      <td>49.882643</td>\n",
       "      <td>30.854083</td>\n",
       "      <td>6.0</td>\n",
       "      <td>6</td>\n",
       "      <td>14</td>\n",
       "      <td>1972</td>\n",
       "      <td>0.310199</td>\n",
       "      <td>...</td>\n",
       "      <td>11.0</td>\n",
       "      <td>2748.0</td>\n",
       "      <td>1.0</td>\n",
       "      <td>900.0</td>\n",
       "      <td>0.0</td>\n",
       "      <td>0.0</td>\n",
       "      <td>B</td>\n",
       "      <td>1</td>\n",
       "      <td>1</td>\n",
       "      <td>1</td>\n",
       "    </tr>\n",
       "    <tr>\n",
       "      <th>2</th>\n",
       "      <td>5480</td>\n",
       "      <td>190</td>\n",
       "      <td>1</td>\n",
       "      <td>52.773893</td>\n",
       "      <td>15.948246</td>\n",
       "      <td>12.0</td>\n",
       "      <td>2</td>\n",
       "      <td>5</td>\n",
       "      <td>1977</td>\n",
       "      <td>0.000000</td>\n",
       "      <td>...</td>\n",
       "      <td>30.0</td>\n",
       "      <td>7538.0</td>\n",
       "      <td>87.0</td>\n",
       "      <td>810.0</td>\n",
       "      <td>5.0</td>\n",
       "      <td>5.0</td>\n",
       "      <td>B</td>\n",
       "      <td>1</td>\n",
       "      <td>1</td>\n",
       "      <td>1</td>\n",
       "    </tr>\n",
       "    <tr>\n",
       "      <th>4</th>\n",
       "      <td>14275</td>\n",
       "      <td>27</td>\n",
       "      <td>1</td>\n",
       "      <td>47.527111</td>\n",
       "      <td>28.498550</td>\n",
       "      <td>6.0</td>\n",
       "      <td>17</td>\n",
       "      <td>17</td>\n",
       "      <td>2017</td>\n",
       "      <td>0.072158</td>\n",
       "      <td>...</td>\n",
       "      <td>2.0</td>\n",
       "      <td>629.0</td>\n",
       "      <td>1.0</td>\n",
       "      <td>900.0</td>\n",
       "      <td>0.0</td>\n",
       "      <td>0.0</td>\n",
       "      <td>A</td>\n",
       "      <td>1</td>\n",
       "      <td>1</td>\n",
       "      <td>2</td>\n",
       "    </tr>\n",
       "    <tr>\n",
       "      <th>3</th>\n",
       "      <td>15664</td>\n",
       "      <td>47</td>\n",
       "      <td>2</td>\n",
       "      <td>73.046609</td>\n",
       "      <td>51.940842</td>\n",
       "      <td>9.0</td>\n",
       "      <td>22</td>\n",
       "      <td>22</td>\n",
       "      <td>2007</td>\n",
       "      <td>0.101872</td>\n",
       "      <td>...</td>\n",
       "      <td>23.0</td>\n",
       "      <td>4583.0</td>\n",
       "      <td>3.0</td>\n",
       "      <td>900.0</td>\n",
       "      <td>3.0</td>\n",
       "      <td>3.0</td>\n",
       "      <td>B</td>\n",
       "      <td>1</td>\n",
       "      <td>1</td>\n",
       "      <td>1</td>\n",
       "    </tr>\n",
       "    <tr>\n",
       "      <th>1</th>\n",
       "      <td>15856</td>\n",
       "      <td>74</td>\n",
       "      <td>2</td>\n",
       "      <td>69.263183</td>\n",
       "      <td>50.234623</td>\n",
       "      <td>6.0</td>\n",
       "      <td>1</td>\n",
       "      <td>1</td>\n",
       "      <td>1977</td>\n",
       "      <td>0.075779</td>\n",
       "      <td>...</td>\n",
       "      <td>6.0</td>\n",
       "      <td>1437.0</td>\n",
       "      <td>3.0</td>\n",
       "      <td>900.0</td>\n",
       "      <td>0.0</td>\n",
       "      <td>2.0</td>\n",
       "      <td>B</td>\n",
       "      <td>1</td>\n",
       "      <td>1</td>\n",
       "      <td>1</td>\n",
       "    </tr>\n",
       "  </tbody>\n",
       "</table>\n",
       "<p>5 rows × 22 columns</p>\n",
       "</div>"
      ],
      "text/plain": [
       "      Id  DistrictId  Rooms     Square  LifeSquare  KitchenSquare  Floor  \\\n",
       "0    725          58      2  49.882643   30.854083            6.0      6   \n",
       "2   5480         190      1  52.773893   15.948246           12.0      2   \n",
       "4  14275          27      1  47.527111   28.498550            6.0     17   \n",
       "3  15664          47      2  73.046609   51.940842            9.0     22   \n",
       "1  15856          74      2  69.263183   50.234623            6.0      1   \n",
       "\n",
       "   HouseFloor  HouseYear  Ecology_1  ... Social_1 Social_2  Social_3  \\\n",
       "0          14       1972   0.310199  ...     11.0   2748.0       1.0   \n",
       "2           5       1977   0.000000  ...     30.0   7538.0      87.0   \n",
       "4          17       2017   0.072158  ...      2.0    629.0       1.0   \n",
       "3          22       2007   0.101872  ...     23.0   4583.0       3.0   \n",
       "1           1       1977   0.075779  ...      6.0   1437.0       3.0   \n",
       "\n",
       "   Healthcare_1  Helthcare_2  Shops_1  Shops_2  E_2 E_3  S_2  \n",
       "0         900.0          0.0      0.0        B    1   1    1  \n",
       "2         810.0          5.0      5.0        B    1   1    1  \n",
       "4         900.0          0.0      0.0        A    1   1    2  \n",
       "3         900.0          3.0      3.0        B    1   1    1  \n",
       "1         900.0          0.0      2.0        B    1   1    1  \n",
       "\n",
       "[5 rows x 22 columns]"
      ]
     },
     "execution_count": 47,
     "metadata": {},
     "output_type": "execute_result"
    }
   ],
   "source": [
    "df_test.head().sort_values(by = 'Id', ascending = True)"
   ]
  },
  {
   "cell_type": "markdown",
   "metadata": {},
   "source": [
    "##### Удалим ненужные колонки"
   ]
  },
  {
   "cell_type": "code",
   "execution_count": 48,
   "metadata": {},
   "outputs": [],
   "source": [
    "df_test = df_test.drop('Shops_2', axis=1)"
   ]
  },
  {
   "cell_type": "code",
   "execution_count": 49,
   "metadata": {},
   "outputs": [],
   "source": [
    "df_test = df_test.drop('Ecology_2', axis=1)"
   ]
  },
  {
   "cell_type": "code",
   "execution_count": 50,
   "metadata": {},
   "outputs": [],
   "source": [
    "df_test = df_test.drop('Ecology_3', axis=1)"
   ]
  },
  {
   "cell_type": "markdown",
   "metadata": {},
   "source": [
    "##### Проверим что нет null значений"
   ]
  },
  {
   "cell_type": "code",
   "execution_count": 51,
   "metadata": {},
   "outputs": [
    {
     "data": {
      "text/plain": [
       "Id               False\n",
       "DistrictId       False\n",
       "Rooms            False\n",
       "Square           False\n",
       "LifeSquare       False\n",
       "KitchenSquare    False\n",
       "Floor            False\n",
       "HouseFloor       False\n",
       "HouseYear        False\n",
       "Ecology_1        False\n",
       "Social_1         False\n",
       "Social_2         False\n",
       "Social_3         False\n",
       "Healthcare_1     False\n",
       "Helthcare_2      False\n",
       "Shops_1          False\n",
       "E_2              False\n",
       "E_3              False\n",
       "S_2              False\n",
       "dtype: bool"
      ]
     },
     "execution_count": 51,
     "metadata": {},
     "output_type": "execute_result"
    }
   ],
   "source": [
    "df_test.isnull().any()"
   ]
  },
  {
   "cell_type": "markdown",
   "metadata": {},
   "source": [
    "##### Сделаем предсказания цен"
   ]
  },
  {
   "cell_type": "code",
   "execution_count": 52,
   "metadata": {},
   "outputs": [],
   "source": [
    "a = rf_model.predict(df_test)"
   ]
  },
  {
   "cell_type": "code",
   "execution_count": 53,
   "metadata": {},
   "outputs": [
    {
     "data": {
      "text/html": [
       "<div>\n",
       "<style scoped>\n",
       "    .dataframe tbody tr th:only-of-type {\n",
       "        vertical-align: middle;\n",
       "    }\n",
       "\n",
       "    .dataframe tbody tr th {\n",
       "        vertical-align: top;\n",
       "    }\n",
       "\n",
       "    .dataframe thead th {\n",
       "        text-align: right;\n",
       "    }\n",
       "</style>\n",
       "<table border=\"1\" class=\"dataframe\">\n",
       "  <thead>\n",
       "    <tr style=\"text-align: right;\">\n",
       "      <th></th>\n",
       "      <th>Price</th>\n",
       "    </tr>\n",
       "  </thead>\n",
       "  <tbody>\n",
       "    <tr>\n",
       "      <th>0</th>\n",
       "      <td>145607.931846</td>\n",
       "    </tr>\n",
       "    <tr>\n",
       "      <th>1</th>\n",
       "      <td>187795.318146</td>\n",
       "    </tr>\n",
       "    <tr>\n",
       "      <th>2</th>\n",
       "      <td>256856.136693</td>\n",
       "    </tr>\n",
       "    <tr>\n",
       "      <th>3</th>\n",
       "      <td>202761.214144</td>\n",
       "    </tr>\n",
       "    <tr>\n",
       "      <th>4</th>\n",
       "      <td>119363.694434</td>\n",
       "    </tr>\n",
       "  </tbody>\n",
       "</table>\n",
       "</div>"
      ],
      "text/plain": [
       "           Price\n",
       "0  145607.931846\n",
       "1  187795.318146\n",
       "2  256856.136693\n",
       "3  202761.214144\n",
       "4  119363.694434"
      ]
     },
     "execution_count": 53,
     "metadata": {},
     "output_type": "execute_result"
    }
   ],
   "source": [
    "a = pd.DataFrame(a,columns=['Price'])\n",
    "a.head()"
   ]
  },
  {
   "cell_type": "markdown",
   "metadata": {},
   "source": [
    "##### Проверим длинну нашего датафрейма"
   ]
  },
  {
   "cell_type": "code",
   "execution_count": 54,
   "metadata": {},
   "outputs": [
    {
     "data": {
      "text/plain": [
       "5000"
      ]
     },
     "execution_count": 54,
     "metadata": {},
     "output_type": "execute_result"
    }
   ],
   "source": [
    "len(a)"
   ]
  },
  {
   "cell_type": "markdown",
   "metadata": {},
   "source": [
    "##### объединим нужные колонки и выгрузим в файл"
   ]
  },
  {
   "cell_type": "code",
   "execution_count": 55,
   "metadata": {},
   "outputs": [],
   "source": [
    "result = pd.concat([df_test['Id'].astype(int) , a['Price']], axis=1, sort=False)\n",
    "\n",
    "result.to_csv(filename,index=False,encoding='utf-8')"
   ]
  }
 ],
 "metadata": {
  "kernelspec": {
   "display_name": "Python 3",
   "language": "python",
   "name": "python3"
  },
  "language_info": {
   "codemirror_mode": {
    "name": "ipython",
    "version": 3
   },
   "file_extension": ".py",
   "mimetype": "text/x-python",
   "name": "python",
   "nbconvert_exporter": "python",
   "pygments_lexer": "ipython3",
   "version": "3.7.3"
  }
 },
 "nbformat": 4,
 "nbformat_minor": 2
}
