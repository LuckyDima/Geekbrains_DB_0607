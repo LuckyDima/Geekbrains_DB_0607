{
 "cells": [
  {
   "cell_type": "markdown",
   "metadata": {},
   "source": [
    "###### Курсовой проект для курса \"Python для Data Science\"\n",
    "\n",
    "###### Материалы к проекту (файлы): train.csv test.csv\n",
    "\n",
    "## Задание: \n",
    "> Используя данные из train.csv, построить модель для предсказания цен на недвижимость (квартиры). \n",
    "> С помощью полученной модели предсказать цены для квартир из файла test.csv.\n",
    "\n",
    "##### Целевая переменная: \n",
    "* Price\n",
    "\n",
    "##### Основная метрика: \n",
    "* R2 - коэффициент детерминации (sklearn.metrics.r2_score)\n",
    "\n",
    "##### Вспомогательная метрика: \n",
    "* MSE - средняя квадратичная ошибка (sklearn.metrics.mean_squared_error)\n",
    "\n",
    "## Сдача проекта: \n",
    ">1. Прислать в раздел Задания Урока 12 (\"Вебинар. Консультация по итоговому проекту\") ссылку на программу в github (программа должна содержаться в файле Jupyter Notebook  с расширением ipynb). \n",
    ">2. Приложить файл с названием по образцу SShirkin_predictions.csv с предсказанными ценами для квартир из test.csv (файл должен содержать два поля: Id, Price).\n",
    "\n",
    "##### Сроки сдачи: \n",
    "* Сдать проект за 72 часа до начала Урока 13 (\"Вебинар. Результаты итоговых проектов и закрытие курса\").\n",
    "\n",
    "##### Примечание: Все файлы csv должны содержать названия полей (header - то есть \"шапку\"), разделитель - запятая. В файлах не должны содержаться индексы из датафрейма."
   ]
  },
  {
   "cell_type": "markdown",
   "metadata": {},
   "source": [
    "#####  Подключаем библиотеки."
   ]
  },
  {
   "cell_type": "code",
   "execution_count": 1,
   "metadata": {},
   "outputs": [],
   "source": [
    "import numpy as np\n",
    "import pandas as pd\n",
    "import random\n",
    "\n",
    "from sklearn.model_selection import train_test_split, cross_val_score\n",
    "from sklearn.preprocessing import StandardScaler\n",
    "from sklearn.ensemble import RandomForestRegressor\n",
    "from sklearn.metrics import r2_score as r2\n",
    "from sklearn.model_selection import KFold, GridSearchCV\n",
    "\n",
    "import matplotlib\n",
    "import matplotlib.pyplot as plt\n",
    "import seaborn as sns\n",
    "%matplotlib inline\n",
    "plt.style.use(['fivethirtyeight'])\n",
    "import warnings\n",
    "warnings.filterwarnings('ignore')\n",
    "matplotlib.rcParams.update({'font.size': 14})\n",
    "\n",
    "import numpy as np\n",
    "import pandas as pd\n",
    "import matplotlib.pyplot as plt\n",
    "\n",
    "from time import gmtime"
   ]
  },
  {
   "cell_type": "code",
   "execution_count": 2,
   "metadata": {},
   "outputs": [],
   "source": [
    "SOURCE_TRAIN_CSV = 'C:/Users/dmitriy.ivanov/Downloads/Kurs_project_task/train.csv'\n",
    "SOURCE_TEST_CSV = 'C:/Users/dmitriy.ivanov/Downloads/Kurs_project_task/test.csv'\n",
    "df_train = pd.read_csv(SOURCE_TRAIN_CSV)\n",
    "df_test = pd.read_csv(SOURCE_TEST_CSV)\n",
    "filename = 'DmitriyIvanov_pred.csv'"
   ]
  },
  {
   "cell_type": "markdown",
   "metadata": {},
   "source": [
    "##### Функция межквартильного размаха."
   ]
  },
  {
   "cell_type": "code",
   "execution_count": 3,
   "metadata": {},
   "outputs": [],
   "source": [
    "def ir(name):\n",
    "    a = df_train.loc[df_train[name] > 0,name].describe()\n",
    "    eps = (a['75%'] - a['25%'])\n",
    "    i_min = (a['25%'] - 1.5 * eps).astype(int)\n",
    "    if i_min < 0:\n",
    "        i_min = 0\n",
    "    i_max = (a['75%'] + 1.5 * eps).astype(int) + 1\n",
    "    df_i_range = pd.Series([i_min,i_max])\n",
    "    return df_i_range\n",
    "\n",
    "def irt(name):\n",
    "    a = df_test.loc[df_test[name] > 0,name].describe()\n",
    "    eps = (a['75%'] - a['25%'])\n",
    "    i_min = (a['25%'] - 1.5 * eps).astype(int)\n",
    "    if i_min < 0:\n",
    "        i_min = 0\n",
    "    i_max = (a['75%'] + 1.5 * eps).astype(int) + 1\n",
    "    df_i_range = pd.Series([i_min,i_max])\n",
    "    return df_i_range"
   ]
  },
  {
   "cell_type": "markdown",
   "metadata": {},
   "source": [
    "##### Функция графика (повзаимствованная)"
   ]
  },
  {
   "cell_type": "code",
   "execution_count": 4,
   "metadata": {},
   "outputs": [],
   "source": [
    "def evaluate_preds(train_true_values, train_pred_values, test_true_values, test_pred_values):\n",
    "    print(\"Train R2:\\t\" + str(round(r2(train_true_values, train_pred_values), 3)))\n",
    "    print(\"Test R2:\\t\" + str(round(r2(test_true_values, test_pred_values), 3)))\n",
    "    \n",
    "    plt.figure(figsize=(18,10))\n",
    "    \n",
    "    plt.subplot(121)\n",
    "    sns.scatterplot(x=train_pred_values, y=train_true_values)\n",
    "    plt.xlabel('Predicted values')\n",
    "    plt.ylabel('True values')\n",
    "    plt.title('Train sample prediction')\n",
    "    \n",
    "    plt.subplot(122)\n",
    "    sns.scatterplot(x=test_pred_values, y=test_true_values)\n",
    "    plt.xlabel('Predicted values')\n",
    "    plt.ylabel('True values')\n",
    "    plt.title('Test sample prediction')\n",
    "\n",
    "    plt.show()"
   ]
  },
  {
   "cell_type": "markdown",
   "metadata": {},
   "source": [
    "##### Удалим дубликаты, если таковые имеются."
   ]
  },
  {
   "cell_type": "code",
   "execution_count": 5,
   "metadata": {},
   "outputs": [],
   "source": [
    "df_train.drop_duplicates();"
   ]
  },
  {
   "cell_type": "markdown",
   "metadata": {},
   "source": [
    "##### Установим поле id как индекс и переупорядочим его."
   ]
  },
  {
   "cell_type": "code",
   "execution_count": 6,
   "metadata": {},
   "outputs": [],
   "source": [
    "#df_train = df_train.set_index('Id')\n",
    "#df_train.reset_index(inplace = True, drop = True)\n",
    "#df_train.index.name = 'id'"
   ]
  },
  {
   "cell_type": "markdown",
   "metadata": {},
   "source": [
    "##### Проверим наш датасет на null значения."
   ]
  },
  {
   "cell_type": "code",
   "execution_count": 7,
   "metadata": {},
   "outputs": [],
   "source": [
    "df_train.isnull().any();"
   ]
  },
  {
   "cell_type": "markdown",
   "metadata": {},
   "source": [
    "##### Приведем некоторые типы к целым значениям"
   ]
  },
  {
   "cell_type": "code",
   "execution_count": 8,
   "metadata": {},
   "outputs": [],
   "source": [
    "df_train['Rooms'] = df_train['Rooms'].astype(int)\n",
    "\n",
    "df_train['HouseFloor'] = df_train['HouseFloor'].astype(int)\n",
    "\n",
    "x_min_year = ir('HouseYear')[0]\n",
    "\n",
    "x_max_year = gmtime().tm_year"
   ]
  },
  {
   "cell_type": "markdown",
   "metadata": {},
   "source": [
    "##### Поправим год строительства"
   ]
  },
  {
   "cell_type": "code",
   "execution_count": 9,
   "metadata": {},
   "outputs": [],
   "source": [
    "year_median = df_train.loc[df_train['HouseYear'].apply(lambda x: x <= x_max_year and x >= x_min_year),'HouseYear'].median()"
   ]
  },
  {
   "cell_type": "code",
   "execution_count": 10,
   "metadata": {},
   "outputs": [],
   "source": [
    "df_train.loc[df_train['HouseYear'].apply(lambda x: x <= x_min_year or x >= x_max_year),'HouseYear'] = year_median"
   ]
  },
  {
   "cell_type": "code",
   "execution_count": 11,
   "metadata": {},
   "outputs": [],
   "source": [
    "df_train['HouseYear'] = df_train['HouseYear'].astype(int)"
   ]
  },
  {
   "cell_type": "code",
   "execution_count": 12,
   "metadata": {},
   "outputs": [
    {
     "data": {
      "text/plain": [
       "count    10000.000000\n",
       "mean      1984.639100\n",
       "std         17.743994\n",
       "min       1934.000000\n",
       "25%       1974.000000\n",
       "50%       1977.000000\n",
       "75%       1999.250000\n",
       "max       2018.000000\n",
       "Name: HouseYear, dtype: float64"
      ]
     },
     "execution_count": 12,
     "metadata": {},
     "output_type": "execute_result"
    }
   ],
   "source": [
    "df_train['HouseYear'].describe()"
   ]
  },
  {
   "cell_type": "markdown",
   "metadata": {},
   "source": [
    "##### Поправим этажность домов"
   ]
  },
  {
   "cell_type": "code",
   "execution_count": 13,
   "metadata": {},
   "outputs": [],
   "source": [
    "df_train.loc[df_train['HouseFloor'] == 0, 'HouseFloor'] = random.randint(1,df_train['HouseFloor'].median())"
   ]
  },
  {
   "cell_type": "code",
   "execution_count": 14,
   "metadata": {},
   "outputs": [],
   "source": [
    "df_train.loc[df_train['Floor'] > df_train['HouseFloor'], 'HouseFloor'] = random.randint(1,df_train['HouseFloor'].median())"
   ]
  },
  {
   "cell_type": "markdown",
   "metadata": {},
   "source": [
    "##### Поправим этаж квартир"
   ]
  },
  {
   "cell_type": "code",
   "execution_count": 15,
   "metadata": {},
   "outputs": [],
   "source": [
    "df_train.loc[df_train['Floor'] > df_train['HouseFloor'], {'Floor'}] = df_train['HouseFloor'].apply(lambda x: random.randint(1, x))"
   ]
  },
  {
   "cell_type": "markdown",
   "metadata": {},
   "source": [
    "##### Проверим, что нет больше квартир находящихся за пределом этажности дома"
   ]
  },
  {
   "cell_type": "code",
   "execution_count": 16,
   "metadata": {},
   "outputs": [
    {
     "data": {
      "text/html": [
       "<div>\n",
       "<style scoped>\n",
       "    .dataframe tbody tr th:only-of-type {\n",
       "        vertical-align: middle;\n",
       "    }\n",
       "\n",
       "    .dataframe tbody tr th {\n",
       "        vertical-align: top;\n",
       "    }\n",
       "\n",
       "    .dataframe thead th {\n",
       "        text-align: right;\n",
       "    }\n",
       "</style>\n",
       "<table border=\"1\" class=\"dataframe\">\n",
       "  <thead>\n",
       "    <tr style=\"text-align: right;\">\n",
       "      <th></th>\n",
       "      <th>Floor</th>\n",
       "    </tr>\n",
       "  </thead>\n",
       "  <tbody>\n",
       "  </tbody>\n",
       "</table>\n",
       "</div>"
      ],
      "text/plain": [
       "Empty DataFrame\n",
       "Columns: [Floor]\n",
       "Index: []"
      ]
     },
     "execution_count": 16,
     "metadata": {},
     "output_type": "execute_result"
    }
   ],
   "source": [
    "df_train.loc[df_train['Floor'] > df_train['HouseFloor'], {'Floor'}]"
   ]
  },
  {
   "cell_type": "markdown",
   "metadata": {},
   "source": [
    "##### Поправим выбросы по комнатам "
   ]
  },
  {
   "cell_type": "code",
   "execution_count": 17,
   "metadata": {},
   "outputs": [
    {
     "data": {
      "text/plain": [
       "2     3880\n",
       "1     3705\n",
       "3     2235\n",
       "4      150\n",
       "5       18\n",
       "0        8\n",
       "10       2\n",
       "6        1\n",
       "19       1\n",
       "Name: Rooms, dtype: int64"
      ]
     },
     "execution_count": 17,
     "metadata": {},
     "output_type": "execute_result"
    }
   ],
   "source": [
    "df_train['Rooms'].value_counts()"
   ]
  },
  {
   "cell_type": "markdown",
   "metadata": {},
   "source": [
    "##### Для начала вычислим медианное значение кол-ва комнат по району и году постройки"
   ]
  },
  {
   "cell_type": "code",
   "execution_count": 18,
   "metadata": {},
   "outputs": [],
   "source": [
    "filter1 = df_train.loc[~((df_train['Rooms'] == 0) | (df_train['Rooms'] > 6)) ,{'DistrictId','HouseYear','Rooms'}]\n",
    "\n",
    "filter1 = filter1.groupby(['DistrictId','HouseYear']).median()"
   ]
  },
  {
   "cell_type": "code",
   "execution_count": 19,
   "metadata": {},
   "outputs": [],
   "source": [
    "a = df_train.loc[(df_train['Rooms'] == 0) | (df_train['Rooms'] > 6),{'DistrictId','HouseYear','Rooms'}]\n",
    "\n",
    "b = pd.merge(a, filter1, on=['DistrictId','HouseYear'],how='left')"
   ]
  },
  {
   "cell_type": "markdown",
   "metadata": {},
   "source": [
    "##### Вычислили медианное значение для комнат такого типа"
   ]
  },
  {
   "cell_type": "code",
   "execution_count": 20,
   "metadata": {},
   "outputs": [
    {
     "data": {
      "text/plain": [
       "2.0"
      ]
     },
     "execution_count": 20,
     "metadata": {},
     "output_type": "execute_result"
    }
   ],
   "source": [
    "b['Rooms_y'].median()"
   ]
  },
  {
   "cell_type": "markdown",
   "metadata": {},
   "source": [
    "##### Проверим, что нет null значений"
   ]
  },
  {
   "cell_type": "code",
   "execution_count": 21,
   "metadata": {},
   "outputs": [
    {
     "data": {
      "text/plain": [
       "False"
      ]
     },
     "execution_count": 21,
     "metadata": {},
     "output_type": "execute_result"
    }
   ],
   "source": [
    "df_train['Rooms'].isnull().any()"
   ]
  },
  {
   "cell_type": "markdown",
   "metadata": {},
   "source": [
    "##### Изменим неправильные начения на медианные"
   ]
  },
  {
   "cell_type": "code",
   "execution_count": 22,
   "metadata": {},
   "outputs": [],
   "source": [
    "df_train.loc[(df_train['Rooms'] == 0) | (df_train['Rooms'] > 6), 'Rooms'] = b['Rooms_y'].median()"
   ]
  },
  {
   "cell_type": "code",
   "execution_count": 23,
   "metadata": {},
   "outputs": [
    {
     "data": {
      "text/html": [
       "<div>\n",
       "<style scoped>\n",
       "    .dataframe tbody tr th:only-of-type {\n",
       "        vertical-align: middle;\n",
       "    }\n",
       "\n",
       "    .dataframe tbody tr th {\n",
       "        vertical-align: top;\n",
       "    }\n",
       "\n",
       "    .dataframe thead th {\n",
       "        text-align: right;\n",
       "    }\n",
       "</style>\n",
       "<table border=\"1\" class=\"dataframe\">\n",
       "  <thead>\n",
       "    <tr style=\"text-align: right;\">\n",
       "      <th></th>\n",
       "      <th>Id</th>\n",
       "      <th>DistrictId</th>\n",
       "      <th>Rooms</th>\n",
       "      <th>Square</th>\n",
       "      <th>LifeSquare</th>\n",
       "      <th>KitchenSquare</th>\n",
       "      <th>Floor</th>\n",
       "      <th>HouseFloor</th>\n",
       "      <th>HouseYear</th>\n",
       "      <th>Ecology_1</th>\n",
       "      <th>Ecology_2</th>\n",
       "      <th>Ecology_3</th>\n",
       "      <th>Social_1</th>\n",
       "      <th>Social_2</th>\n",
       "      <th>Social_3</th>\n",
       "      <th>Healthcare_1</th>\n",
       "      <th>Helthcare_2</th>\n",
       "      <th>Shops_1</th>\n",
       "      <th>Shops_2</th>\n",
       "      <th>Price</th>\n",
       "    </tr>\n",
       "  </thead>\n",
       "  <tbody>\n",
       "  </tbody>\n",
       "</table>\n",
       "</div>"
      ],
      "text/plain": [
       "Empty DataFrame\n",
       "Columns: [Id, DistrictId, Rooms, Square, LifeSquare, KitchenSquare, Floor, HouseFloor, HouseYear, Ecology_1, Ecology_2, Ecology_3, Social_1, Social_2, Social_3, Healthcare_1, Helthcare_2, Shops_1, Shops_2, Price]\n",
       "Index: []"
      ]
     },
     "execution_count": 23,
     "metadata": {},
     "output_type": "execute_result"
    }
   ],
   "source": [
    "df_train[((df_train['Rooms'] == 0) | (df_train['Rooms'] > 6))]"
   ]
  },
  {
   "cell_type": "markdown",
   "metadata": {},
   "source": [
    "##### Разберемся с площадью кухни"
   ]
  },
  {
   "cell_type": "code",
   "execution_count": 24,
   "metadata": {},
   "outputs": [],
   "source": [
    "x_min_ksquare = ir('KitchenSquare')[0]\n",
    "\n",
    "x_max_ksquare = ir('KitchenSquare')[1]\n",
    "\n",
    "x_med_ksquare = df_train['KitchenSquare'].median()"
   ]
  },
  {
   "cell_type": "markdown",
   "metadata": {},
   "source": [
    "##### Поправим большие значения выходящие за максимальный размах более чем в 2 раза. В нашем случаее размах = 22"
   ]
  },
  {
   "cell_type": "code",
   "execution_count": 25,
   "metadata": {},
   "outputs": [],
   "source": [
    "df_train.loc[df_train['KitchenSquare'] > x_max_ksquare, 'KitchenSquare'] = x_max_ksquare"
   ]
  },
  {
   "cell_type": "markdown",
   "metadata": {},
   "source": [
    "##### Посмотрим на площадь кухонь менее 5 метров. Логично пердположить, что таких должно быть немного, но картина другая"
   ]
  },
  {
   "cell_type": "code",
   "execution_count": 26,
   "metadata": {},
   "outputs": [
    {
     "data": {
      "text/plain": [
       "1.0    2460\n",
       "0.0     697\n",
       "4.0      39\n",
       "3.0      22\n",
       "2.0       4\n",
       "Name: KitchenSquare, dtype: int64"
      ]
     },
     "execution_count": 26,
     "metadata": {},
     "output_type": "execute_result"
    }
   ],
   "source": [
    "df_train.loc[df_train['KitchenSquare'] < 5, 'KitchenSquare'].value_counts()"
   ]
  },
  {
   "cell_type": "markdown",
   "metadata": {},
   "source": [
    "##### Поправим все кухни менее 5 метров на медианное значение"
   ]
  },
  {
   "cell_type": "code",
   "execution_count": 27,
   "metadata": {},
   "outputs": [],
   "source": [
    "df_train.loc[df_train['KitchenSquare'] < 5, 'KitchenSquare'] = x_med_ksquare"
   ]
  },
  {
   "cell_type": "code",
   "execution_count": 28,
   "metadata": {},
   "outputs": [
    {
     "data": {
      "text/plain": [
       "count    10000.000000\n",
       "mean         7.416600\n",
       "std          2.373817\n",
       "min          5.000000\n",
       "25%          6.000000\n",
       "50%          6.000000\n",
       "75%          9.000000\n",
       "max         22.000000\n",
       "Name: KitchenSquare, dtype: float64"
      ]
     },
     "execution_count": 28,
     "metadata": {},
     "output_type": "execute_result"
    }
   ],
   "source": [
    "df_train['KitchenSquare'].describe()"
   ]
  },
  {
   "cell_type": "markdown",
   "metadata": {},
   "source": [
    "##### Healthcare_1 Заполним пустые значения медианными и заполним значения которые выходят за размах"
   ]
  },
  {
   "cell_type": "code",
   "execution_count": 29,
   "metadata": {},
   "outputs": [],
   "source": [
    "x_min_h1 = ir('Healthcare_1')[0]\n",
    "\n",
    "x_max_h1 = ir('Healthcare_1')[1]\n",
    "\n",
    "h1_median = df_train.loc[df_train['Healthcare_1'].apply(lambda x: x <= x_max_h1 and x >= x_min_h1),'Healthcare_1'].median()"
   ]
  },
  {
   "cell_type": "code",
   "execution_count": 30,
   "metadata": {},
   "outputs": [],
   "source": [
    "df_train.loc[df_train['Healthcare_1'].isnull() == True, 'Healthcare_1'] = df_train['Healthcare_1'].median()"
   ]
  },
  {
   "cell_type": "code",
   "execution_count": 31,
   "metadata": {},
   "outputs": [],
   "source": [
    "df_train.loc[df_train['Healthcare_1'].apply(lambda x: x <= x_min_h1 or x >= x_max_h1),'Healthcare_1'] = h1_median"
   ]
  },
  {
   "cell_type": "code",
   "execution_count": 32,
   "metadata": {},
   "outputs": [
    {
     "data": {
      "text/plain": [
       "900.0"
      ]
     },
     "execution_count": 32,
     "metadata": {},
     "output_type": "execute_result"
    }
   ],
   "source": [
    "df_train['Healthcare_1'].median()"
   ]
  },
  {
   "cell_type": "markdown",
   "metadata": {},
   "source": [
    "##### Healthcare_2 распределение выглядит  нормальным, менять не будем"
   ]
  },
  {
   "cell_type": "code",
   "execution_count": 33,
   "metadata": {},
   "outputs": [
    {
     "data": {
      "text/plain": [
       "0    4214\n",
       "1    2183\n",
       "3    1670\n",
       "2    1158\n",
       "5     388\n",
       "4     288\n",
       "6      99\n",
       "Name: Helthcare_2, dtype: int64"
      ]
     },
     "execution_count": 33,
     "metadata": {},
     "output_type": "execute_result"
    }
   ],
   "source": [
    "df_train['Helthcare_2'].sort_values().value_counts()"
   ]
  },
  {
   "cell_type": "markdown",
   "metadata": {},
   "source": [
    "##### Заполним пустые значения жилой площади"
   ]
  },
  {
   "cell_type": "code",
   "execution_count": 34,
   "metadata": {},
   "outputs": [],
   "source": [
    "med_dif = df_train[~df_train['LifeSquare'].isnull() & ~df_train['Square'].isnull()][{'Square','LifeSquare'}].median()['Square']-\\\n",
    "df_train[~df_train['LifeSquare'].isnull() & ~df_train['Square'].isnull()][{'Square','LifeSquare'}].median()['LifeSquare']\n",
    "\n",
    "df_train.loc[df_train['LifeSquare'].isnull(),'LifeSquare'] = df_train['Square'] - med_dif"
   ]
  },
  {
   "cell_type": "markdown",
   "metadata": {},
   "source": [
    "##### Пересчитаем значения для некорректной жилой площади"
   ]
  },
  {
   "cell_type": "code",
   "execution_count": 35,
   "metadata": {},
   "outputs": [],
   "source": [
    "df_train.loc[(df_train['LifeSquare'] > df_train['Square'] + df_train['KitchenSquare']),'LifeSquare'] =\\\n",
    "df_train['Square'] - df_train['KitchenSquare']"
   ]
  },
  {
   "cell_type": "markdown",
   "metadata": {},
   "source": [
    "##### Исправим выбросы для общей площади"
   ]
  },
  {
   "cell_type": "code",
   "execution_count": 36,
   "metadata": {},
   "outputs": [],
   "source": [
    "s25 = df_train['Square'].quantile(.25) \n",
    "\n",
    "s75 = df_train['Square'].quantile(.75)\n",
    "\n",
    "sdiff = s75 - s25\n",
    "\n",
    "smax = s75 + 1.5*sdiff\n",
    "\n",
    "smin = s25 - 1.5*sdiff\n",
    "\n",
    "df_train.loc[df_train['Square']> smax, 'Square'] = df_train[df_train['Square']> smax].median()['Square']"
   ]
  },
  {
   "cell_type": "code",
   "execution_count": 37,
   "metadata": {},
   "outputs": [],
   "source": [
    "df_train.loc[(df_train['Square'] < df_train['LifeSquare']), 'Square'] = df_train[df_train['LifeSquare'] > df_train['Square']]['LifeSquare']"
   ]
  },
  {
   "cell_type": "markdown",
   "metadata": {},
   "source": [
    "##### Экология и Магазины"
   ]
  },
  {
   "cell_type": "code",
   "execution_count": 38,
   "metadata": {},
   "outputs": [],
   "source": [
    "df_train['E_2'] = df_train['Ecology_2'].replace({'A':2, 'B':1})\n",
    "\n",
    "df_train['E_3'] = df_train['Ecology_3'].replace({'A':2, 'B':1})\n",
    "\n",
    "df_train['S_2'] = df_train['Shops_2'].replace({'A':2, 'B':1})"
   ]
  },
  {
   "cell_type": "markdown",
   "metadata": {},
   "source": [
    "##### Удалим явно неправильные данные"
   ]
  },
  {
   "cell_type": "code",
   "execution_count": 39,
   "metadata": {},
   "outputs": [],
   "source": [
    "p25 = df_train['Price'].quantile(.25) \n",
    "\n",
    "p75 = df_train['Price'].quantile(.75)\n",
    "\n",
    "pdiff = p75 - p25\n",
    "\n",
    "pmax = p75 + 1.5*pdiff\n",
    "\n",
    "pmin = p25 - 1.5*pdiff\n",
    "\n",
    "df_train = df_train.drop(df_train[(df_train['Square'] < smin) & (df_train['Price'] < pmin)].index)\n",
    "\n",
    "df_train[(df_train['Square'] < smin)] = df_train['Square'].median()"
   ]
  },
  {
   "cell_type": "markdown",
   "metadata": {},
   "source": [
    "##### Была идея расчитать медианную цену за 1 метр квадратный по району, но медианная цена с учетом площади, этажа и кол-ва комнат показала себя лучше"
   ]
  },
  {
   "cell_type": "code",
   "execution_count": 40,
   "metadata": {},
   "outputs": [],
   "source": [
    "df_train['Square_round'] = (round(df_train['Square'].astype(int)/10)*10).astype(int)"
   ]
  },
  {
   "cell_type": "code",
   "execution_count": 41,
   "metadata": {},
   "outputs": [],
   "source": [
    "med_price_by_district = df_train.groupby(['DistrictId', 'Rooms'], as_index=False).agg({'Price':'median'})\\\n",
    "                        .rename(columns={'Price':'MedPriceByDistrict'})"
   ]
  },
  {
   "cell_type": "markdown",
   "metadata": {},
   "source": [
    "##### Введем еще один категориальный признак размер района, но возможно от него стоит отказаться, т.к. этот признак влияет не существенно."
   ]
  },
  {
   "cell_type": "code",
   "execution_count": 42,
   "metadata": {},
   "outputs": [],
   "source": [
    "district_size = df_train['DistrictId'].value_counts().reset_index()\\\n",
    "                .rename(columns={'index':'DistrictId', 'DistrictId':'DistrictSize'})\n",
    "\n",
    "df_train = df_train.merge(district_size, on='DistrictId', how='left')\n",
    "\n",
    "df_train['IsDistrictLarge'] = (df_train['DistrictSize'] > df_train['DistrictSize'].median()).astype(int)"
   ]
  },
  {
   "cell_type": "markdown",
   "metadata": {},
   "source": [
    "##### Добавим наши новые признаки в датасет"
   ]
  },
  {
   "cell_type": "code",
   "execution_count": 43,
   "metadata": {},
   "outputs": [],
   "source": [
    "df_train = df_train.merge(med_price_by_district, on=['DistrictId', 'Rooms'], how='left')"
   ]
  },
  {
   "cell_type": "markdown",
   "metadata": {},
   "source": [
    "##### Запишем список фичей в переменные"
   ]
  },
  {
   "cell_type": "code",
   "execution_count": 44,
   "metadata": {},
   "outputs": [],
   "source": [
    "feature_names = ['Id','Rooms', 'Square', 'LifeSquare', 'KitchenSquare', 'Floor', 'HouseFloor', 'HouseYear',\n",
    "                 'Ecology_1', 'E_2', 'E_3', 'Social_1', 'Social_2', 'Social_3',\n",
    "                 'Healthcare_1', 'Helthcare_2', 'Shops_1', 'S_2', 'Square_round']\n",
    "\n",
    "new_feature_names = ['IsDistrictLarge', 'MedPriceByDistrict']\n",
    "\n",
    "target_name = 'Price'"
   ]
  },
  {
   "cell_type": "markdown",
   "metadata": {},
   "source": [
    "##### Определим датафреймы для нашей модели"
   ]
  },
  {
   "cell_type": "code",
   "execution_count": 45,
   "metadata": {},
   "outputs": [
    {
     "data": {
      "text/html": [
       "<div>\n",
       "<style scoped>\n",
       "    .dataframe tbody tr th:only-of-type {\n",
       "        vertical-align: middle;\n",
       "    }\n",
       "\n",
       "    .dataframe tbody tr th {\n",
       "        vertical-align: top;\n",
       "    }\n",
       "\n",
       "    .dataframe thead th {\n",
       "        text-align: right;\n",
       "    }\n",
       "</style>\n",
       "<table border=\"1\" class=\"dataframe\">\n",
       "  <thead>\n",
       "    <tr style=\"text-align: right;\">\n",
       "      <th></th>\n",
       "      <th>Id</th>\n",
       "      <th>DistrictId</th>\n",
       "      <th>Rooms</th>\n",
       "      <th>Square</th>\n",
       "      <th>LifeSquare</th>\n",
       "      <th>KitchenSquare</th>\n",
       "      <th>Floor</th>\n",
       "      <th>HouseFloor</th>\n",
       "      <th>HouseYear</th>\n",
       "      <th>Ecology_1</th>\n",
       "      <th>...</th>\n",
       "      <th>Shops_1</th>\n",
       "      <th>Shops_2</th>\n",
       "      <th>Price</th>\n",
       "      <th>E_2</th>\n",
       "      <th>E_3</th>\n",
       "      <th>S_2</th>\n",
       "      <th>Square_round</th>\n",
       "      <th>DistrictSize</th>\n",
       "      <th>IsDistrictLarge</th>\n",
       "      <th>MedPriceByDistrict</th>\n",
       "    </tr>\n",
       "  </thead>\n",
       "  <tbody>\n",
       "    <tr>\n",
       "      <th>0</th>\n",
       "      <td>14038.0</td>\n",
       "      <td>35.0</td>\n",
       "      <td>2.0</td>\n",
       "      <td>47.981561</td>\n",
       "      <td>29.442751</td>\n",
       "      <td>6.0</td>\n",
       "      <td>7.0</td>\n",
       "      <td>9.0</td>\n",
       "      <td>1969.0</td>\n",
       "      <td>0.089040</td>\n",
       "      <td>...</td>\n",
       "      <td>11.0</td>\n",
       "      <td>B</td>\n",
       "      <td>184966.930730</td>\n",
       "      <td>1.0</td>\n",
       "      <td>1.0</td>\n",
       "      <td>1.0</td>\n",
       "      <td>50</td>\n",
       "      <td>22</td>\n",
       "      <td>0</td>\n",
       "      <td>207786.135836</td>\n",
       "    </tr>\n",
       "    <tr>\n",
       "      <th>1</th>\n",
       "      <td>15053.0</td>\n",
       "      <td>41.0</td>\n",
       "      <td>3.0</td>\n",
       "      <td>65.683640</td>\n",
       "      <td>40.049543</td>\n",
       "      <td>8.0</td>\n",
       "      <td>7.0</td>\n",
       "      <td>9.0</td>\n",
       "      <td>1978.0</td>\n",
       "      <td>0.000070</td>\n",
       "      <td>...</td>\n",
       "      <td>16.0</td>\n",
       "      <td>B</td>\n",
       "      <td>300009.450063</td>\n",
       "      <td>1.0</td>\n",
       "      <td>1.0</td>\n",
       "      <td>1.0</td>\n",
       "      <td>60</td>\n",
       "      <td>87</td>\n",
       "      <td>0</td>\n",
       "      <td>300009.450063</td>\n",
       "    </tr>\n",
       "    <tr>\n",
       "      <th>2</th>\n",
       "      <td>4765.0</td>\n",
       "      <td>53.0</td>\n",
       "      <td>2.0</td>\n",
       "      <td>44.947953</td>\n",
       "      <td>29.197612</td>\n",
       "      <td>6.0</td>\n",
       "      <td>8.0</td>\n",
       "      <td>12.0</td>\n",
       "      <td>1968.0</td>\n",
       "      <td>0.049637</td>\n",
       "      <td>...</td>\n",
       "      <td>3.0</td>\n",
       "      <td>B</td>\n",
       "      <td>220925.908524</td>\n",
       "      <td>1.0</td>\n",
       "      <td>1.0</td>\n",
       "      <td>1.0</td>\n",
       "      <td>40</td>\n",
       "      <td>174</td>\n",
       "      <td>1</td>\n",
       "      <td>263206.223152</td>\n",
       "    </tr>\n",
       "    <tr>\n",
       "      <th>3</th>\n",
       "      <td>5809.0</td>\n",
       "      <td>58.0</td>\n",
       "      <td>2.0</td>\n",
       "      <td>53.352981</td>\n",
       "      <td>52.731512</td>\n",
       "      <td>9.0</td>\n",
       "      <td>8.0</td>\n",
       "      <td>17.0</td>\n",
       "      <td>1977.0</td>\n",
       "      <td>0.437885</td>\n",
       "      <td>...</td>\n",
       "      <td>5.0</td>\n",
       "      <td>B</td>\n",
       "      <td>175616.227217</td>\n",
       "      <td>1.0</td>\n",
       "      <td>1.0</td>\n",
       "      <td>1.0</td>\n",
       "      <td>50</td>\n",
       "      <td>179</td>\n",
       "      <td>1</td>\n",
       "      <td>166809.665642</td>\n",
       "    </tr>\n",
       "    <tr>\n",
       "      <th>4</th>\n",
       "      <td>10783.0</td>\n",
       "      <td>99.0</td>\n",
       "      <td>1.0</td>\n",
       "      <td>39.649192</td>\n",
       "      <td>23.776169</td>\n",
       "      <td>7.0</td>\n",
       "      <td>11.0</td>\n",
       "      <td>12.0</td>\n",
       "      <td>1976.0</td>\n",
       "      <td>0.012339</td>\n",
       "      <td>...</td>\n",
       "      <td>4.0</td>\n",
       "      <td>B</td>\n",
       "      <td>150226.531644</td>\n",
       "      <td>1.0</td>\n",
       "      <td>1.0</td>\n",
       "      <td>1.0</td>\n",
       "      <td>40</td>\n",
       "      <td>97</td>\n",
       "      <td>0</td>\n",
       "      <td>158539.052715</td>\n",
       "    </tr>\n",
       "  </tbody>\n",
       "</table>\n",
       "<p>5 rows × 27 columns</p>\n",
       "</div>"
      ],
      "text/plain": [
       "        Id  DistrictId  Rooms     Square  LifeSquare  KitchenSquare  Floor  \\\n",
       "0  14038.0        35.0    2.0  47.981561   29.442751            6.0    7.0   \n",
       "1  15053.0        41.0    3.0  65.683640   40.049543            8.0    7.0   \n",
       "2   4765.0        53.0    2.0  44.947953   29.197612            6.0    8.0   \n",
       "3   5809.0        58.0    2.0  53.352981   52.731512            9.0    8.0   \n",
       "4  10783.0        99.0    1.0  39.649192   23.776169            7.0   11.0   \n",
       "\n",
       "   HouseFloor  HouseYear  Ecology_1  ... Shops_1 Shops_2          Price  E_2  \\\n",
       "0         9.0     1969.0   0.089040  ...    11.0       B  184966.930730  1.0   \n",
       "1         9.0     1978.0   0.000070  ...    16.0       B  300009.450063  1.0   \n",
       "2        12.0     1968.0   0.049637  ...     3.0       B  220925.908524  1.0   \n",
       "3        17.0     1977.0   0.437885  ...     5.0       B  175616.227217  1.0   \n",
       "4        12.0     1976.0   0.012339  ...     4.0       B  150226.531644  1.0   \n",
       "\n",
       "   E_3  S_2  Square_round  DistrictSize IsDistrictLarge  MedPriceByDistrict  \n",
       "0  1.0  1.0            50            22               0       207786.135836  \n",
       "1  1.0  1.0            60            87               0       300009.450063  \n",
       "2  1.0  1.0            40           174               1       263206.223152  \n",
       "3  1.0  1.0            50           179               1       166809.665642  \n",
       "4  1.0  1.0            40            97               0       158539.052715  \n",
       "\n",
       "[5 rows x 27 columns]"
      ]
     },
     "execution_count": 45,
     "metadata": {},
     "output_type": "execute_result"
    }
   ],
   "source": [
    "df_train.head()"
   ]
  },
  {
   "cell_type": "code",
   "execution_count": 48,
   "metadata": {},
   "outputs": [],
   "source": [
    "#df_train = df_train.drop('Square_round_y', axis=1)\n",
    "\n",
    "#df_train = df_train.rename(columns={'Square_round_x':'Square_round'})"
   ]
  },
  {
   "cell_type": "code",
   "execution_count": 49,
   "metadata": {},
   "outputs": [],
   "source": [
    "X = df_train[feature_names + new_feature_names]\n",
    "y = df_train[target_name]"
   ]
  },
  {
   "cell_type": "markdown",
   "metadata": {},
   "source": [
    "##### Проверим isnull значение еще раз"
   ]
  },
  {
   "cell_type": "code",
   "execution_count": 50,
   "metadata": {},
   "outputs": [
    {
     "data": {
      "text/plain": [
       "Id                    False\n",
       "DistrictId            False\n",
       "Rooms                 False\n",
       "Square                False\n",
       "LifeSquare            False\n",
       "KitchenSquare         False\n",
       "Floor                 False\n",
       "HouseFloor            False\n",
       "HouseYear             False\n",
       "Ecology_1             False\n",
       "Ecology_2             False\n",
       "Ecology_3             False\n",
       "Social_1              False\n",
       "Social_2              False\n",
       "Social_3              False\n",
       "Healthcare_1          False\n",
       "Helthcare_2           False\n",
       "Shops_1               False\n",
       "Shops_2               False\n",
       "Price                 False\n",
       "E_2                   False\n",
       "E_3                   False\n",
       "S_2                   False\n",
       "Square_round          False\n",
       "DistrictSize          False\n",
       "IsDistrictLarge       False\n",
       "MedPriceByDistrict    False\n",
       "dtype: bool"
      ]
     },
     "execution_count": 50,
     "metadata": {},
     "output_type": "execute_result"
    }
   ],
   "source": [
    "df_train.isnull().any()"
   ]
  },
  {
   "cell_type": "markdown",
   "metadata": {},
   "source": [
    "##### Посмотрим описание нашего датасета"
   ]
  },
  {
   "cell_type": "code",
   "execution_count": 51,
   "metadata": {},
   "outputs": [
    {
     "data": {
      "text/html": [
       "<div>\n",
       "<style scoped>\n",
       "    .dataframe tbody tr th:only-of-type {\n",
       "        vertical-align: middle;\n",
       "    }\n",
       "\n",
       "    .dataframe tbody tr th {\n",
       "        vertical-align: top;\n",
       "    }\n",
       "\n",
       "    .dataframe thead th {\n",
       "        text-align: right;\n",
       "    }\n",
       "</style>\n",
       "<table border=\"1\" class=\"dataframe\">\n",
       "  <thead>\n",
       "    <tr style=\"text-align: right;\">\n",
       "      <th></th>\n",
       "      <th>Id</th>\n",
       "      <th>DistrictId</th>\n",
       "      <th>Rooms</th>\n",
       "      <th>Square</th>\n",
       "      <th>LifeSquare</th>\n",
       "      <th>KitchenSquare</th>\n",
       "      <th>Floor</th>\n",
       "      <th>HouseFloor</th>\n",
       "      <th>HouseYear</th>\n",
       "      <th>Ecology_1</th>\n",
       "      <th>...</th>\n",
       "      <th>Helthcare_2</th>\n",
       "      <th>Shops_1</th>\n",
       "      <th>Price</th>\n",
       "      <th>E_2</th>\n",
       "      <th>E_3</th>\n",
       "      <th>S_2</th>\n",
       "      <th>Square_round</th>\n",
       "      <th>DistrictSize</th>\n",
       "      <th>IsDistrictLarge</th>\n",
       "      <th>MedPriceByDistrict</th>\n",
       "    </tr>\n",
       "  </thead>\n",
       "  <tbody>\n",
       "    <tr>\n",
       "      <th>count</th>\n",
       "      <td>10000.000000</td>\n",
       "      <td>10000.000000</td>\n",
       "      <td>10000.000000</td>\n",
       "      <td>10000.000000</td>\n",
       "      <td>10000.000000</td>\n",
       "      <td>10000.000000</td>\n",
       "      <td>10000.000000</td>\n",
       "      <td>10000.000000</td>\n",
       "      <td>10000.000000</td>\n",
       "      <td>10000.000000</td>\n",
       "      <td>...</td>\n",
       "      <td>10000.000000</td>\n",
       "      <td>10000.000000</td>\n",
       "      <td>10000.000000</td>\n",
       "      <td>10000.000000</td>\n",
       "      <td>10000.000000</td>\n",
       "      <td>10000.000000</td>\n",
       "      <td>10000.000000</td>\n",
       "      <td>10000.000000</td>\n",
       "      <td>10000.000000</td>\n",
       "      <td>10000.000000</td>\n",
       "    </tr>\n",
       "    <tr>\n",
       "      <th>mean</th>\n",
       "      <td>8372.970752</td>\n",
       "      <td>50.428752</td>\n",
       "      <td>1.945152</td>\n",
       "      <td>56.409483</td>\n",
       "      <td>37.488348</td>\n",
       "      <td>7.467852</td>\n",
       "      <td>7.000852</td>\n",
       "      <td>12.098052</td>\n",
       "      <td>1982.514952</td>\n",
       "      <td>0.176599</td>\n",
       "      <td>...</td>\n",
       "      <td>1.376252</td>\n",
       "      <td>4.285452</td>\n",
       "      <td>213833.899053</td>\n",
       "      <td>1.066452</td>\n",
       "      <td>1.084252</td>\n",
       "      <td>1.139252</td>\n",
       "      <td>55.957000</td>\n",
       "      <td>241.374800</td>\n",
       "      <td>0.495700</td>\n",
       "      <td>211228.725313</td>\n",
       "    </tr>\n",
       "    <tr>\n",
       "      <th>std</th>\n",
       "      <td>4864.682041</td>\n",
       "      <td>43.573390</td>\n",
       "      <td>1.866497</td>\n",
       "      <td>20.660731</td>\n",
       "      <td>20.370537</td>\n",
       "      <td>2.806306</td>\n",
       "      <td>5.352020</td>\n",
       "      <td>7.125405</td>\n",
       "      <td>66.457599</td>\n",
       "      <td>1.743551</td>\n",
       "      <td>...</td>\n",
       "      <td>2.262128</td>\n",
       "      <td>5.065002</td>\n",
       "      <td>92989.304650</td>\n",
       "      <td>1.712762</td>\n",
       "      <td>1.717170</td>\n",
       "      <td>1.729562</td>\n",
       "      <td>21.195497</td>\n",
       "      <td>267.985598</td>\n",
       "      <td>0.500007</td>\n",
       "      <td>76839.724561</td>\n",
       "    </tr>\n",
       "    <tr>\n",
       "      <th>min</th>\n",
       "      <td>0.000000</td>\n",
       "      <td>0.000000</td>\n",
       "      <td>1.000000</td>\n",
       "      <td>5.610772</td>\n",
       "      <td>-0.677206</td>\n",
       "      <td>5.000000</td>\n",
       "      <td>1.000000</td>\n",
       "      <td>1.000000</td>\n",
       "      <td>52.592594</td>\n",
       "      <td>0.000000</td>\n",
       "      <td>...</td>\n",
       "      <td>0.000000</td>\n",
       "      <td>0.000000</td>\n",
       "      <td>52.592594</td>\n",
       "      <td>1.000000</td>\n",
       "      <td>1.000000</td>\n",
       "      <td>1.000000</td>\n",
       "      <td>0.000000</td>\n",
       "      <td>1.000000</td>\n",
       "      <td>0.000000</td>\n",
       "      <td>52.592594</td>\n",
       "    </tr>\n",
       "    <tr>\n",
       "      <th>25%</th>\n",
       "      <td>4154.750000</td>\n",
       "      <td>20.000000</td>\n",
       "      <td>1.000000</td>\n",
       "      <td>41.883697</td>\n",
       "      <td>23.446803</td>\n",
       "      <td>6.000000</td>\n",
       "      <td>3.000000</td>\n",
       "      <td>5.000000</td>\n",
       "      <td>1974.000000</td>\n",
       "      <td>0.017647</td>\n",
       "      <td>...</td>\n",
       "      <td>0.000000</td>\n",
       "      <td>1.000000</td>\n",
       "      <td>153781.674885</td>\n",
       "      <td>1.000000</td>\n",
       "      <td>1.000000</td>\n",
       "      <td>1.000000</td>\n",
       "      <td>40.000000</td>\n",
       "      <td>55.000000</td>\n",
       "      <td>0.000000</td>\n",
       "      <td>165071.825722</td>\n",
       "    </tr>\n",
       "    <tr>\n",
       "      <th>50%</th>\n",
       "      <td>8387.500000</td>\n",
       "      <td>36.000000</td>\n",
       "      <td>2.000000</td>\n",
       "      <td>52.596224</td>\n",
       "      <td>33.544682</td>\n",
       "      <td>6.000000</td>\n",
       "      <td>6.000000</td>\n",
       "      <td>12.000000</td>\n",
       "      <td>1977.000000</td>\n",
       "      <td>0.075424</td>\n",
       "      <td>...</td>\n",
       "      <td>1.000000</td>\n",
       "      <td>3.000000</td>\n",
       "      <td>192133.221510</td>\n",
       "      <td>1.000000</td>\n",
       "      <td>1.000000</td>\n",
       "      <td>1.000000</td>\n",
       "      <td>50.000000</td>\n",
       "      <td>104.000000</td>\n",
       "      <td>0.000000</td>\n",
       "      <td>195474.299127</td>\n",
       "    </tr>\n",
       "    <tr>\n",
       "      <th>75%</th>\n",
       "      <td>12589.250000</td>\n",
       "      <td>75.000000</td>\n",
       "      <td>2.000000</td>\n",
       "      <td>65.985903</td>\n",
       "      <td>46.448656</td>\n",
       "      <td>9.000000</td>\n",
       "      <td>10.000000</td>\n",
       "      <td>17.000000</td>\n",
       "      <td>1999.000000</td>\n",
       "      <td>0.195781</td>\n",
       "      <td>...</td>\n",
       "      <td>2.000000</td>\n",
       "      <td>6.000000</td>\n",
       "      <td>249067.022116</td>\n",
       "      <td>1.000000</td>\n",
       "      <td>1.000000</td>\n",
       "      <td>1.000000</td>\n",
       "      <td>60.000000</td>\n",
       "      <td>510.000000</td>\n",
       "      <td>1.000000</td>\n",
       "      <td>241068.903045</td>\n",
       "    </tr>\n",
       "    <tr>\n",
       "      <th>max</th>\n",
       "      <td>16798.000000</td>\n",
       "      <td>209.000000</td>\n",
       "      <td>52.592594</td>\n",
       "      <td>638.163193</td>\n",
       "      <td>638.163193</td>\n",
       "      <td>52.592594</td>\n",
       "      <td>52.592594</td>\n",
       "      <td>117.000000</td>\n",
       "      <td>2018.000000</td>\n",
       "      <td>52.592594</td>\n",
       "      <td>...</td>\n",
       "      <td>52.592594</td>\n",
       "      <td>52.592594</td>\n",
       "      <td>633233.466570</td>\n",
       "      <td>52.592594</td>\n",
       "      <td>52.592594</td>\n",
       "      <td>52.592594</td>\n",
       "      <td>640.000000</td>\n",
       "      <td>848.000000</td>\n",
       "      <td>1.000000</td>\n",
       "      <td>624156.003381</td>\n",
       "    </tr>\n",
       "  </tbody>\n",
       "</table>\n",
       "<p>8 rows × 24 columns</p>\n",
       "</div>"
      ],
      "text/plain": [
       "                 Id    DistrictId         Rooms        Square    LifeSquare  \\\n",
       "count  10000.000000  10000.000000  10000.000000  10000.000000  10000.000000   \n",
       "mean    8372.970752     50.428752      1.945152     56.409483     37.488348   \n",
       "std     4864.682041     43.573390      1.866497     20.660731     20.370537   \n",
       "min        0.000000      0.000000      1.000000      5.610772     -0.677206   \n",
       "25%     4154.750000     20.000000      1.000000     41.883697     23.446803   \n",
       "50%     8387.500000     36.000000      2.000000     52.596224     33.544682   \n",
       "75%    12589.250000     75.000000      2.000000     65.985903     46.448656   \n",
       "max    16798.000000    209.000000     52.592594    638.163193    638.163193   \n",
       "\n",
       "       KitchenSquare         Floor    HouseFloor     HouseYear     Ecology_1  \\\n",
       "count   10000.000000  10000.000000  10000.000000  10000.000000  10000.000000   \n",
       "mean        7.467852      7.000852     12.098052   1982.514952      0.176599   \n",
       "std         2.806306      5.352020      7.125405     66.457599      1.743551   \n",
       "min         5.000000      1.000000      1.000000     52.592594      0.000000   \n",
       "25%         6.000000      3.000000      5.000000   1974.000000      0.017647   \n",
       "50%         6.000000      6.000000     12.000000   1977.000000      0.075424   \n",
       "75%         9.000000     10.000000     17.000000   1999.000000      0.195781   \n",
       "max        52.592594     52.592594    117.000000   2018.000000     52.592594   \n",
       "\n",
       "       ...   Helthcare_2       Shops_1          Price           E_2  \\\n",
       "count  ...  10000.000000  10000.000000   10000.000000  10000.000000   \n",
       "mean   ...      1.376252      4.285452  213833.899053      1.066452   \n",
       "std    ...      2.262128      5.065002   92989.304650      1.712762   \n",
       "min    ...      0.000000      0.000000      52.592594      1.000000   \n",
       "25%    ...      0.000000      1.000000  153781.674885      1.000000   \n",
       "50%    ...      1.000000      3.000000  192133.221510      1.000000   \n",
       "75%    ...      2.000000      6.000000  249067.022116      1.000000   \n",
       "max    ...     52.592594     52.592594  633233.466570     52.592594   \n",
       "\n",
       "                E_3           S_2  Square_round  DistrictSize  \\\n",
       "count  10000.000000  10000.000000  10000.000000  10000.000000   \n",
       "mean       1.084252      1.139252     55.957000    241.374800   \n",
       "std        1.717170      1.729562     21.195497    267.985598   \n",
       "min        1.000000      1.000000      0.000000      1.000000   \n",
       "25%        1.000000      1.000000     40.000000     55.000000   \n",
       "50%        1.000000      1.000000     50.000000    104.000000   \n",
       "75%        1.000000      1.000000     60.000000    510.000000   \n",
       "max       52.592594     52.592594    640.000000    848.000000   \n",
       "\n",
       "       IsDistrictLarge  MedPriceByDistrict  \n",
       "count     10000.000000        10000.000000  \n",
       "mean          0.495700       211228.725313  \n",
       "std           0.500007        76839.724561  \n",
       "min           0.000000           52.592594  \n",
       "25%           0.000000       165071.825722  \n",
       "50%           0.000000       195474.299127  \n",
       "75%           1.000000       241068.903045  \n",
       "max           1.000000       624156.003381  \n",
       "\n",
       "[8 rows x 24 columns]"
      ]
     },
     "execution_count": 51,
     "metadata": {},
     "output_type": "execute_result"
    }
   ],
   "source": [
    "df_train.describe()"
   ]
  },
  {
   "cell_type": "markdown",
   "metadata": {},
   "source": [
    "##### Обнаружены еще выбросы которые мы не поправили "
   ]
  },
  {
   "cell_type": "code",
   "execution_count": 52,
   "metadata": {},
   "outputs": [],
   "source": [
    "df_train.loc[(df_train['LifeSquare'] < 9),'LifeSquare'] = (df_train['Square'].median() - df_train['KitchenSquare'].median())"
   ]
  },
  {
   "cell_type": "markdown",
   "metadata": {},
   "source": [
    "##### _ _ _ _ _ _ _ _ _ _ _ _ _ _ _ _ _ _ _ _ _ _ _ _ _ _ _ _ ___ _ _ _ _ _ _ _ _ _ _ _ _ _ _ _ _ _ _ _ _ _ _ _ _ _ _ _ _ _ _ _ _ _ _ _ _ _ _ _ _ _ _ _ _ _ _ _ _ _ _ _ "
   ]
  },
  {
   "cell_type": "markdown",
   "metadata": {},
   "source": [
    "##### Обучим нашу модель и посмотрим результаты. Подобрав гипер-параметр глубины дерева остановился на 11, т.к. данное значение показывает наилучший score на кросс-валидационной проверке"
   ]
  },
  {
   "cell_type": "code",
   "execution_count": 53,
   "metadata": {},
   "outputs": [
    {
     "name": "stdout",
     "output_type": "stream",
     "text": [
      "Train R2:\t0.953\n",
      "Test R2:\t0.744\n"
     ]
    },
    {
     "data": {
      "image/png": "[encoded data removed]",
      "text/plain": [
       "<Figure size 1296x720 with 2 Axes>"
      ]
     },
     "metadata": {
      "needs_background": "light"
     },
     "output_type": "display_data"
    }
   ],
   "source": [
    "\n",
    "X_train, X_test, y_train, y_test = train_test_split(X, y, test_size=0.33, shuffle=True, random_state=21)\n",
    "\n",
    "rf_model = RandomForestRegressor(random_state=21, oob_score = True, max_depth = 17, n_estimators = 21)\n",
    "rf_model.fit(X_train, y_train)\n",
    "\n",
    "y_train_preds = rf_model.predict(X_train)\n",
    "y_test_preds = rf_model.predict(X_test)\n",
    "\n",
    "evaluate_preds(y_train, y_train_preds, y_test, y_test_preds)"
   ]
  },
  {
   "cell_type": "markdown",
   "metadata": {},
   "source": [
    "##### Кросс валидация, считаю, что 6 разбиений показвает лучше качество нашей модели чем 3 по умолчание"
   ]
  },
  {
   "cell_type": "code",
   "execution_count": 54,
   "metadata": {},
   "outputs": [
    {
     "data": {
      "text/plain": [
       "0.7477701681543708"
      ]
     },
     "execution_count": 54,
     "metadata": {},
     "output_type": "execute_result"
    }
   ],
   "source": [
    "cv_score = cross_val_score(rf_model, X, y, scoring='r2', cv=KFold(n_splits=6, shuffle=True, random_state=21))\n",
    "cv_score.mean()"
   ]
  },
  {
   "cell_type": "markdown",
   "metadata": {},
   "source": [
    "* 0.9999959605613693 - лучший результат, но мое мнение это уже предел погрешности"
   ]
  },
  {
   "cell_type": "markdown",
   "metadata": {},
   "source": [
    "##### Важность фичей, как и следовало предположить наша гипер-фича имеет топ 1"
   ]
  },
  {
   "cell_type": "code",
   "execution_count": 55,
   "metadata": {},
   "outputs": [
    {
     "data": {
      "text/html": [
       "<div>\n",
       "<style scoped>\n",
       "    .dataframe tbody tr th:only-of-type {\n",
       "        vertical-align: middle;\n",
       "    }\n",
       "\n",
       "    .dataframe tbody tr th {\n",
       "        vertical-align: top;\n",
       "    }\n",
       "\n",
       "    .dataframe thead th {\n",
       "        text-align: right;\n",
       "    }\n",
       "</style>\n",
       "<table border=\"1\" class=\"dataframe\">\n",
       "  <thead>\n",
       "    <tr style=\"text-align: right;\">\n",
       "      <th></th>\n",
       "      <th>feature_name</th>\n",
       "      <th>importance</th>\n",
       "    </tr>\n",
       "  </thead>\n",
       "  <tbody>\n",
       "    <tr>\n",
       "      <th>20</th>\n",
       "      <td>MedPriceByDistrict</td>\n",
       "      <td>0.621416</td>\n",
       "    </tr>\n",
       "    <tr>\n",
       "      <th>2</th>\n",
       "      <td>Square</td>\n",
       "      <td>0.112346</td>\n",
       "    </tr>\n",
       "    <tr>\n",
       "      <th>3</th>\n",
       "      <td>LifeSquare</td>\n",
       "      <td>0.028635</td>\n",
       "    </tr>\n",
       "    <tr>\n",
       "      <th>13</th>\n",
       "      <td>Social_3</td>\n",
       "      <td>0.027828</td>\n",
       "    </tr>\n",
       "    <tr>\n",
       "      <th>4</th>\n",
       "      <td>KitchenSquare</td>\n",
       "      <td>0.026819</td>\n",
       "    </tr>\n",
       "    <tr>\n",
       "      <th>7</th>\n",
       "      <td>HouseYear</td>\n",
       "      <td>0.025599</td>\n",
       "    </tr>\n",
       "    <tr>\n",
       "      <th>0</th>\n",
       "      <td>Id</td>\n",
       "      <td>0.023145</td>\n",
       "    </tr>\n",
       "    <tr>\n",
       "      <th>12</th>\n",
       "      <td>Social_2</td>\n",
       "      <td>0.021529</td>\n",
       "    </tr>\n",
       "    <tr>\n",
       "      <th>6</th>\n",
       "      <td>HouseFloor</td>\n",
       "      <td>0.018924</td>\n",
       "    </tr>\n",
       "    <tr>\n",
       "      <th>5</th>\n",
       "      <td>Floor</td>\n",
       "      <td>0.017208</td>\n",
       "    </tr>\n",
       "    <tr>\n",
       "      <th>8</th>\n",
       "      <td>Ecology_1</td>\n",
       "      <td>0.015379</td>\n",
       "    </tr>\n",
       "    <tr>\n",
       "      <th>14</th>\n",
       "      <td>Healthcare_1</td>\n",
       "      <td>0.014557</td>\n",
       "    </tr>\n",
       "    <tr>\n",
       "      <th>11</th>\n",
       "      <td>Social_1</td>\n",
       "      <td>0.013029</td>\n",
       "    </tr>\n",
       "    <tr>\n",
       "      <th>16</th>\n",
       "      <td>Shops_1</td>\n",
       "      <td>0.008615</td>\n",
       "    </tr>\n",
       "    <tr>\n",
       "      <th>15</th>\n",
       "      <td>Helthcare_2</td>\n",
       "      <td>0.006949</td>\n",
       "    </tr>\n",
       "    <tr>\n",
       "      <th>18</th>\n",
       "      <td>Square_round</td>\n",
       "      <td>0.006550</td>\n",
       "    </tr>\n",
       "    <tr>\n",
       "      <th>1</th>\n",
       "      <td>Rooms</td>\n",
       "      <td>0.005649</td>\n",
       "    </tr>\n",
       "    <tr>\n",
       "      <th>19</th>\n",
       "      <td>IsDistrictLarge</td>\n",
       "      <td>0.003774</td>\n",
       "    </tr>\n",
       "    <tr>\n",
       "      <th>10</th>\n",
       "      <td>E_3</td>\n",
       "      <td>0.000909</td>\n",
       "    </tr>\n",
       "    <tr>\n",
       "      <th>17</th>\n",
       "      <td>S_2</td>\n",
       "      <td>0.000900</td>\n",
       "    </tr>\n",
       "    <tr>\n",
       "      <th>9</th>\n",
       "      <td>E_2</td>\n",
       "      <td>0.000237</td>\n",
       "    </tr>\n",
       "  </tbody>\n",
       "</table>\n",
       "</div>"
      ],
      "text/plain": [
       "          feature_name  importance\n",
       "20  MedPriceByDistrict    0.621416\n",
       "2               Square    0.112346\n",
       "3           LifeSquare    0.028635\n",
       "13            Social_3    0.027828\n",
       "4        KitchenSquare    0.026819\n",
       "7            HouseYear    0.025599\n",
       "0                   Id    0.023145\n",
       "12            Social_2    0.021529\n",
       "6           HouseFloor    0.018924\n",
       "5                Floor    0.017208\n",
       "8            Ecology_1    0.015379\n",
       "14        Healthcare_1    0.014557\n",
       "11            Social_1    0.013029\n",
       "16             Shops_1    0.008615\n",
       "15         Helthcare_2    0.006949\n",
       "18        Square_round    0.006550\n",
       "1                Rooms    0.005649\n",
       "19     IsDistrictLarge    0.003774\n",
       "10                 E_3    0.000909\n",
       "17                 S_2    0.000900\n",
       "9                  E_2    0.000237"
      ]
     },
     "execution_count": 55,
     "metadata": {},
     "output_type": "execute_result"
    }
   ],
   "source": [
    "feature_importances = pd.DataFrame(zip(X_train.columns, rf_model.feature_importances_), \n",
    "                                   columns=['feature_name', 'importance'])\n",
    "\n",
    "feature_importances.sort_values(by = 'importance', ascending = False)"
   ]
  },
  {
   "cell_type": "code",
   "execution_count": 56,
   "metadata": {},
   "outputs": [
    {
     "data": {
      "text/html": [
       "<div>\n",
       "<style scoped>\n",
       "    .dataframe tbody tr th:only-of-type {\n",
       "        vertical-align: middle;\n",
       "    }\n",
       "\n",
       "    .dataframe tbody tr th {\n",
       "        vertical-align: top;\n",
       "    }\n",
       "\n",
       "    .dataframe thead th {\n",
       "        text-align: right;\n",
       "    }\n",
       "</style>\n",
       "<table border=\"1\" class=\"dataframe\">\n",
       "  <thead>\n",
       "    <tr style=\"text-align: right;\">\n",
       "      <th></th>\n",
       "      <th>Id</th>\n",
       "      <th>DistrictId</th>\n",
       "      <th>Rooms</th>\n",
       "      <th>Square</th>\n",
       "      <th>LifeSquare</th>\n",
       "      <th>KitchenSquare</th>\n",
       "      <th>Floor</th>\n",
       "      <th>HouseFloor</th>\n",
       "      <th>HouseYear</th>\n",
       "      <th>Ecology_1</th>\n",
       "      <th>...</th>\n",
       "      <th>Shops_1</th>\n",
       "      <th>Shops_2</th>\n",
       "      <th>Price</th>\n",
       "      <th>E_2</th>\n",
       "      <th>E_3</th>\n",
       "      <th>S_2</th>\n",
       "      <th>Square_round</th>\n",
       "      <th>DistrictSize</th>\n",
       "      <th>IsDistrictLarge</th>\n",
       "      <th>MedPriceByDistrict</th>\n",
       "    </tr>\n",
       "  </thead>\n",
       "  <tbody>\n",
       "    <tr>\n",
       "      <th>0</th>\n",
       "      <td>14038.0</td>\n",
       "      <td>35.0</td>\n",
       "      <td>2.0</td>\n",
       "      <td>47.981561</td>\n",
       "      <td>29.442751</td>\n",
       "      <td>6.0</td>\n",
       "      <td>7.0</td>\n",
       "      <td>9.0</td>\n",
       "      <td>1969.0</td>\n",
       "      <td>0.089040</td>\n",
       "      <td>...</td>\n",
       "      <td>11.0</td>\n",
       "      <td>B</td>\n",
       "      <td>184966.930730</td>\n",
       "      <td>1.0</td>\n",
       "      <td>1.0</td>\n",
       "      <td>1.0</td>\n",
       "      <td>50</td>\n",
       "      <td>22</td>\n",
       "      <td>0</td>\n",
       "      <td>207786.135836</td>\n",
       "    </tr>\n",
       "    <tr>\n",
       "      <th>1</th>\n",
       "      <td>15053.0</td>\n",
       "      <td>41.0</td>\n",
       "      <td>3.0</td>\n",
       "      <td>65.683640</td>\n",
       "      <td>40.049543</td>\n",
       "      <td>8.0</td>\n",
       "      <td>7.0</td>\n",
       "      <td>9.0</td>\n",
       "      <td>1978.0</td>\n",
       "      <td>0.000070</td>\n",
       "      <td>...</td>\n",
       "      <td>16.0</td>\n",
       "      <td>B</td>\n",
       "      <td>300009.450063</td>\n",
       "      <td>1.0</td>\n",
       "      <td>1.0</td>\n",
       "      <td>1.0</td>\n",
       "      <td>60</td>\n",
       "      <td>87</td>\n",
       "      <td>0</td>\n",
       "      <td>300009.450063</td>\n",
       "    </tr>\n",
       "    <tr>\n",
       "      <th>2</th>\n",
       "      <td>4765.0</td>\n",
       "      <td>53.0</td>\n",
       "      <td>2.0</td>\n",
       "      <td>44.947953</td>\n",
       "      <td>29.197612</td>\n",
       "      <td>6.0</td>\n",
       "      <td>8.0</td>\n",
       "      <td>12.0</td>\n",
       "      <td>1968.0</td>\n",
       "      <td>0.049637</td>\n",
       "      <td>...</td>\n",
       "      <td>3.0</td>\n",
       "      <td>B</td>\n",
       "      <td>220925.908524</td>\n",
       "      <td>1.0</td>\n",
       "      <td>1.0</td>\n",
       "      <td>1.0</td>\n",
       "      <td>40</td>\n",
       "      <td>174</td>\n",
       "      <td>1</td>\n",
       "      <td>263206.223152</td>\n",
       "    </tr>\n",
       "    <tr>\n",
       "      <th>3</th>\n",
       "      <td>5809.0</td>\n",
       "      <td>58.0</td>\n",
       "      <td>2.0</td>\n",
       "      <td>53.352981</td>\n",
       "      <td>52.731512</td>\n",
       "      <td>9.0</td>\n",
       "      <td>8.0</td>\n",
       "      <td>17.0</td>\n",
       "      <td>1977.0</td>\n",
       "      <td>0.437885</td>\n",
       "      <td>...</td>\n",
       "      <td>5.0</td>\n",
       "      <td>B</td>\n",
       "      <td>175616.227217</td>\n",
       "      <td>1.0</td>\n",
       "      <td>1.0</td>\n",
       "      <td>1.0</td>\n",
       "      <td>50</td>\n",
       "      <td>179</td>\n",
       "      <td>1</td>\n",
       "      <td>166809.665642</td>\n",
       "    </tr>\n",
       "    <tr>\n",
       "      <th>4</th>\n",
       "      <td>10783.0</td>\n",
       "      <td>99.0</td>\n",
       "      <td>1.0</td>\n",
       "      <td>39.649192</td>\n",
       "      <td>23.776169</td>\n",
       "      <td>7.0</td>\n",
       "      <td>11.0</td>\n",
       "      <td>12.0</td>\n",
       "      <td>1976.0</td>\n",
       "      <td>0.012339</td>\n",
       "      <td>...</td>\n",
       "      <td>4.0</td>\n",
       "      <td>B</td>\n",
       "      <td>150226.531644</td>\n",
       "      <td>1.0</td>\n",
       "      <td>1.0</td>\n",
       "      <td>1.0</td>\n",
       "      <td>40</td>\n",
       "      <td>97</td>\n",
       "      <td>0</td>\n",
       "      <td>158539.052715</td>\n",
       "    </tr>\n",
       "  </tbody>\n",
       "</table>\n",
       "<p>5 rows × 27 columns</p>\n",
       "</div>"
      ],
      "text/plain": [
       "        Id  DistrictId  Rooms     Square  LifeSquare  KitchenSquare  Floor  \\\n",
       "0  14038.0        35.0    2.0  47.981561   29.442751            6.0    7.0   \n",
       "1  15053.0        41.0    3.0  65.683640   40.049543            8.0    7.0   \n",
       "2   4765.0        53.0    2.0  44.947953   29.197612            6.0    8.0   \n",
       "3   5809.0        58.0    2.0  53.352981   52.731512            9.0    8.0   \n",
       "4  10783.0        99.0    1.0  39.649192   23.776169            7.0   11.0   \n",
       "\n",
       "   HouseFloor  HouseYear  Ecology_1  ... Shops_1 Shops_2          Price  E_2  \\\n",
       "0         9.0     1969.0   0.089040  ...    11.0       B  184966.930730  1.0   \n",
       "1         9.0     1978.0   0.000070  ...    16.0       B  300009.450063  1.0   \n",
       "2        12.0     1968.0   0.049637  ...     3.0       B  220925.908524  1.0   \n",
       "3        17.0     1977.0   0.437885  ...     5.0       B  175616.227217  1.0   \n",
       "4        12.0     1976.0   0.012339  ...     4.0       B  150226.531644  1.0   \n",
       "\n",
       "   E_3  S_2  Square_round  DistrictSize IsDistrictLarge  MedPriceByDistrict  \n",
       "0  1.0  1.0            50            22               0       207786.135836  \n",
       "1  1.0  1.0            60            87               0       300009.450063  \n",
       "2  1.0  1.0            40           174               1       263206.223152  \n",
       "3  1.0  1.0            50           179               1       166809.665642  \n",
       "4  1.0  1.0            40            97               0       158539.052715  \n",
       "\n",
       "[5 rows x 27 columns]"
      ]
     },
     "execution_count": 56,
     "metadata": {},
     "output_type": "execute_result"
    }
   ],
   "source": [
    "df_train.head()"
   ]
  },
  {
   "cell_type": "markdown",
   "metadata": {},
   "source": [
    "### Прогнозирование на тестовом датасете\n",
    "\n",
    "> 1. Выполнить для тестового датасета те же этапы обработки и постронияния признаков\n",
    "> 2. Не потерять и не перемешать индексы от примеров при построении прогнозов\n",
    "> 3. Прогнозы должны быть для все примеров из тестового датасета (для всех строк)"
   ]
  },
  {
   "cell_type": "code",
   "execution_count": 57,
   "metadata": {},
   "outputs": [
    {
     "data": {
      "text/html": [
       "<div>\n",
       "<style scoped>\n",
       "    .dataframe tbody tr th:only-of-type {\n",
       "        vertical-align: middle;\n",
       "    }\n",
       "\n",
       "    .dataframe tbody tr th {\n",
       "        vertical-align: top;\n",
       "    }\n",
       "\n",
       "    .dataframe thead th {\n",
       "        text-align: right;\n",
       "    }\n",
       "</style>\n",
       "<table border=\"1\" class=\"dataframe\">\n",
       "  <thead>\n",
       "    <tr style=\"text-align: right;\">\n",
       "      <th></th>\n",
       "      <th>Id</th>\n",
       "      <th>DistrictId</th>\n",
       "      <th>Rooms</th>\n",
       "      <th>Square</th>\n",
       "      <th>LifeSquare</th>\n",
       "      <th>KitchenSquare</th>\n",
       "      <th>Floor</th>\n",
       "      <th>HouseFloor</th>\n",
       "      <th>HouseYear</th>\n",
       "      <th>Ecology_1</th>\n",
       "      <th>Ecology_2</th>\n",
       "      <th>Ecology_3</th>\n",
       "      <th>Social_1</th>\n",
       "      <th>Social_2</th>\n",
       "      <th>Social_3</th>\n",
       "      <th>Healthcare_1</th>\n",
       "      <th>Helthcare_2</th>\n",
       "      <th>Shops_1</th>\n",
       "      <th>Shops_2</th>\n",
       "    </tr>\n",
       "  </thead>\n",
       "  <tbody>\n",
       "    <tr>\n",
       "      <th>0</th>\n",
       "      <td>725</td>\n",
       "      <td>58</td>\n",
       "      <td>2.0</td>\n",
       "      <td>49.882643</td>\n",
       "      <td>33.432782</td>\n",
       "      <td>6.0</td>\n",
       "      <td>6</td>\n",
       "      <td>14.0</td>\n",
       "      <td>1972</td>\n",
       "      <td>0.310199</td>\n",
       "      <td>B</td>\n",
       "      <td>B</td>\n",
       "      <td>11</td>\n",
       "      <td>2748</td>\n",
       "      <td>1</td>\n",
       "      <td>NaN</td>\n",
       "      <td>0</td>\n",
       "      <td>0</td>\n",
       "      <td>B</td>\n",
       "    </tr>\n",
       "    <tr>\n",
       "      <th>2</th>\n",
       "      <td>5480</td>\n",
       "      <td>190</td>\n",
       "      <td>1.0</td>\n",
       "      <td>13.597819</td>\n",
       "      <td>15.948246</td>\n",
       "      <td>12.0</td>\n",
       "      <td>2</td>\n",
       "      <td>5.0</td>\n",
       "      <td>1909</td>\n",
       "      <td>0.000000</td>\n",
       "      <td>B</td>\n",
       "      <td>B</td>\n",
       "      <td>30</td>\n",
       "      <td>7538</td>\n",
       "      <td>87</td>\n",
       "      <td>4702.0</td>\n",
       "      <td>5</td>\n",
       "      <td>5</td>\n",
       "      <td>B</td>\n",
       "    </tr>\n",
       "    <tr>\n",
       "      <th>4</th>\n",
       "      <td>14275</td>\n",
       "      <td>27</td>\n",
       "      <td>1.0</td>\n",
       "      <td>47.527111</td>\n",
       "      <td>43.387569</td>\n",
       "      <td>1.0</td>\n",
       "      <td>17</td>\n",
       "      <td>17.0</td>\n",
       "      <td>2017</td>\n",
       "      <td>0.072158</td>\n",
       "      <td>B</td>\n",
       "      <td>B</td>\n",
       "      <td>2</td>\n",
       "      <td>629</td>\n",
       "      <td>1</td>\n",
       "      <td>NaN</td>\n",
       "      <td>0</td>\n",
       "      <td>0</td>\n",
       "      <td>A</td>\n",
       "    </tr>\n",
       "    <tr>\n",
       "      <th>3</th>\n",
       "      <td>15664</td>\n",
       "      <td>47</td>\n",
       "      <td>2.0</td>\n",
       "      <td>73.046609</td>\n",
       "      <td>51.940842</td>\n",
       "      <td>9.0</td>\n",
       "      <td>22</td>\n",
       "      <td>22.0</td>\n",
       "      <td>2007</td>\n",
       "      <td>0.101872</td>\n",
       "      <td>B</td>\n",
       "      <td>B</td>\n",
       "      <td>23</td>\n",
       "      <td>4583</td>\n",
       "      <td>3</td>\n",
       "      <td>NaN</td>\n",
       "      <td>3</td>\n",
       "      <td>3</td>\n",
       "      <td>B</td>\n",
       "    </tr>\n",
       "    <tr>\n",
       "      <th>1</th>\n",
       "      <td>15856</td>\n",
       "      <td>74</td>\n",
       "      <td>2.0</td>\n",
       "      <td>69.263183</td>\n",
       "      <td>NaN</td>\n",
       "      <td>1.0</td>\n",
       "      <td>6</td>\n",
       "      <td>1.0</td>\n",
       "      <td>1977</td>\n",
       "      <td>0.075779</td>\n",
       "      <td>B</td>\n",
       "      <td>B</td>\n",
       "      <td>6</td>\n",
       "      <td>1437</td>\n",
       "      <td>3</td>\n",
       "      <td>NaN</td>\n",
       "      <td>0</td>\n",
       "      <td>2</td>\n",
       "      <td>B</td>\n",
       "    </tr>\n",
       "  </tbody>\n",
       "</table>\n",
       "</div>"
      ],
      "text/plain": [
       "      Id  DistrictId  Rooms     Square  LifeSquare  KitchenSquare  Floor  \\\n",
       "0    725          58    2.0  49.882643   33.432782            6.0      6   \n",
       "2   5480         190    1.0  13.597819   15.948246           12.0      2   \n",
       "4  14275          27    1.0  47.527111   43.387569            1.0     17   \n",
       "3  15664          47    2.0  73.046609   51.940842            9.0     22   \n",
       "1  15856          74    2.0  69.263183         NaN            1.0      6   \n",
       "\n",
       "   HouseFloor  HouseYear  Ecology_1 Ecology_2 Ecology_3  Social_1  Social_2  \\\n",
       "0        14.0       1972   0.310199         B         B        11      2748   \n",
       "2         5.0       1909   0.000000         B         B        30      7538   \n",
       "4        17.0       2017   0.072158         B         B         2       629   \n",
       "3        22.0       2007   0.101872         B         B        23      4583   \n",
       "1         1.0       1977   0.075779         B         B         6      1437   \n",
       "\n",
       "   Social_3  Healthcare_1  Helthcare_2  Shops_1 Shops_2  \n",
       "0         1           NaN            0        0       B  \n",
       "2        87        4702.0            5        5       B  \n",
       "4         1           NaN            0        0       A  \n",
       "3         3           NaN            3        3       B  \n",
       "1         3           NaN            0        2       B  "
      ]
     },
     "execution_count": 57,
     "metadata": {},
     "output_type": "execute_result"
    }
   ],
   "source": [
    "df_test.head().sort_values(by = 'Id', ascending = True)"
   ]
  },
  {
   "cell_type": "markdown",
   "metadata": {},
   "source": [
    "##### Применим все наши трансформации для тестового датасета"
   ]
  },
  {
   "cell_type": "code",
   "execution_count": 58,
   "metadata": {},
   "outputs": [],
   "source": [
    "df_test['Rooms'] = df_test['Rooms'].astype(int)\n",
    "\n",
    "df_test['HouseFloor'] = df_test['HouseFloor'].astype(int)\n",
    "\n",
    "x_min_yeart = irt('HouseYear')[0]\n",
    "\n",
    "x_max_yeart = gmtime().tm_year"
   ]
  },
  {
   "cell_type": "code",
   "execution_count": 59,
   "metadata": {},
   "outputs": [],
   "source": [
    "year_mediant = df_test.loc[df_test['HouseYear'].apply(lambda x: x <= x_max_yeart and x >= x_min_yeart),'HouseYear'].median()"
   ]
  },
  {
   "cell_type": "code",
   "execution_count": 60,
   "metadata": {},
   "outputs": [],
   "source": [
    "df_test.loc[df_test['HouseYear'].apply(lambda x: x <= x_min_yeart or x >= x_max_yeart),'HouseYear'] = year_mediant"
   ]
  },
  {
   "cell_type": "code",
   "execution_count": 61,
   "metadata": {},
   "outputs": [],
   "source": [
    "df_test['HouseYear'] = df_test['HouseYear'].astype(int)"
   ]
  },
  {
   "cell_type": "code",
   "execution_count": 62,
   "metadata": {
    "scrolled": true
   },
   "outputs": [],
   "source": [
    "df_test.loc[df_test['HouseFloor'] == 0, 'HouseFloor'] = random.randint(1,df_test['HouseFloor'].median())"
   ]
  },
  {
   "cell_type": "code",
   "execution_count": 63,
   "metadata": {},
   "outputs": [],
   "source": [
    "df_test.loc[df_test['Floor'] > df_test['HouseFloor'], 'HouseFloor'] = df_test['HouseFloor'].median()"
   ]
  },
  {
   "cell_type": "code",
   "execution_count": 64,
   "metadata": {},
   "outputs": [],
   "source": [
    "df_test.loc[df_test['Floor'] > df_test['HouseFloor'], {'Floor'}] = df_test['HouseFloor'].apply(lambda x: random.randint(1, x))"
   ]
  },
  {
   "cell_type": "code",
   "execution_count": 65,
   "metadata": {},
   "outputs": [],
   "source": [
    "filter1t = df_test.loc[~((df_test['Rooms'] == 0) | (df_test['Rooms'] > 6)),{'DistrictId','HouseYear','Rooms'}]\n",
    "\n",
    "filter1t = filter1t.groupby(['DistrictId','HouseYear']).median()"
   ]
  },
  {
   "cell_type": "code",
   "execution_count": 66,
   "metadata": {},
   "outputs": [
    {
     "data": {
      "text/plain": [
       "2     2030\n",
       "1     1769\n",
       "3     1099\n",
       "4       90\n",
       "5        7\n",
       "6        2\n",
       "0        2\n",
       "17       1\n",
       "Name: Rooms, dtype: int64"
      ]
     },
     "execution_count": 66,
     "metadata": {},
     "output_type": "execute_result"
    }
   ],
   "source": [
    "df_test['Rooms'].value_counts()"
   ]
  },
  {
   "cell_type": "code",
   "execution_count": 67,
   "metadata": {},
   "outputs": [],
   "source": [
    "a = df_test.loc[(df_test['Rooms'] == 0) | (df_test['Rooms'] > 6),{'DistrictId','HouseYear','Rooms'}]\n",
    "\n",
    "b = pd.merge(a, filter1t, on=['DistrictId','HouseYear'],how='left')"
   ]
  },
  {
   "cell_type": "code",
   "execution_count": 68,
   "metadata": {},
   "outputs": [],
   "source": [
    "df_test.loc[(df_test['Rooms'] == 0) | (df_test['Rooms'] > 6), 'Rooms'] = b['Rooms_y'].median()"
   ]
  },
  {
   "cell_type": "code",
   "execution_count": 69,
   "metadata": {},
   "outputs": [],
   "source": [
    "x_min_ksquaret = irt('KitchenSquare')[0]\n",
    "\n",
    "x_max_ksquaret = irt('KitchenSquare')[1]\n",
    "\n",
    "x_med_ksquaret = df_test['KitchenSquare'].median()"
   ]
  },
  {
   "cell_type": "code",
   "execution_count": 70,
   "metadata": {},
   "outputs": [],
   "source": [
    "df_test.loc[df_test['KitchenSquare'] > x_max_ksquaret, 'KitchenSquare'] = x_max_ksquaret"
   ]
  },
  {
   "cell_type": "code",
   "execution_count": 71,
   "metadata": {},
   "outputs": [],
   "source": [
    "df_test.loc[df_test['KitchenSquare'] < 5, 'KitchenSquare'] = x_med_ksquaret"
   ]
  },
  {
   "cell_type": "code",
   "execution_count": 72,
   "metadata": {},
   "outputs": [],
   "source": [
    "x_min_h1t = irt('Healthcare_1')[0]\n",
    "\n",
    "x_max_h1t = irt('Healthcare_1')[1]\n",
    "\n",
    "h1_mediant = df_test.loc[df_test['Healthcare_1'].apply(lambda x: x <= x_max_h1t and x >= x_min_h1t),'Healthcare_1'].median()"
   ]
  },
  {
   "cell_type": "code",
   "execution_count": 73,
   "metadata": {},
   "outputs": [],
   "source": [
    "df_test.loc[df_test['Healthcare_1'].isnull() == True, 'Healthcare_1'] = df_test['Healthcare_1'].median()"
   ]
  },
  {
   "cell_type": "code",
   "execution_count": 74,
   "metadata": {},
   "outputs": [],
   "source": [
    "df_test.loc[df_test['Healthcare_1'].apply(lambda x: x <= x_min_h1t or x >= x_max_h1t),'Healthcare_1'] = h1_mediant"
   ]
  },
  {
   "cell_type": "code",
   "execution_count": 75,
   "metadata": {},
   "outputs": [],
   "source": [
    "med_dift = df_test[~df_test['LifeSquare'].isnull() & ~df_test['Square'].isnull()][{'Square','LifeSquare'}].median()['Square']-\\\n",
    "df_test[~df_test['LifeSquare'].isnull() & ~df_test['Square'].isnull()][{'Square','LifeSquare'}].median()['LifeSquare']\n",
    "\n",
    "df_test.loc[df_test['LifeSquare'].isnull(),'LifeSquare'] = df_test['Square'] - med_dift"
   ]
  },
  {
   "cell_type": "code",
   "execution_count": 76,
   "metadata": {},
   "outputs": [],
   "source": [
    "df_test.loc[(df_test['LifeSquare'] > df_test['Square'] + df_test['KitchenSquare']),'LifeSquare'] =\\\n",
    "df_test['Square'] - df_test['KitchenSquare']"
   ]
  },
  {
   "cell_type": "code",
   "execution_count": 77,
   "metadata": {},
   "outputs": [],
   "source": [
    "s25t = df_test['Square'].quantile(.25) \n",
    "\n",
    "s75t = df_test['Square'].quantile(.75)\n",
    "\n",
    "sdifft = s75t - s25t\n",
    "\n",
    "smaxt = s75t + 1.5*sdifft\n",
    "\n",
    "smint = s25t - 1.5*sdifft\n",
    "\n",
    "df_test.loc[df_test['Square']> smaxt, 'Square'] = df_test[df_test['Square']> smaxt].median()['Square']"
   ]
  },
  {
   "cell_type": "code",
   "execution_count": 78,
   "metadata": {},
   "outputs": [],
   "source": [
    "df_test.loc[(df_test['Square'] < df_test['LifeSquare']), 'Square'] = df_test[df_test['LifeSquare'] > df_test['Square']]['LifeSquare']"
   ]
  },
  {
   "cell_type": "code",
   "execution_count": 79,
   "metadata": {},
   "outputs": [],
   "source": [
    "\n",
    "df_test['E_2'] = df_test['Ecology_2'].replace({'A':2, 'B':1})\n",
    "\n",
    "df_test['E_3'] = df_test['Ecology_3'].replace({'A':2, 'B':1})\n",
    "\n",
    "df_test['S_2'] = df_test['Shops_2'].replace({'A':2, 'B':1})"
   ]
  },
  {
   "cell_type": "code",
   "execution_count": 80,
   "metadata": {},
   "outputs": [],
   "source": [
    "df_test['Square_round'] = (round(df_test['Square'].astype(int)/10)*10).astype(int)"
   ]
  },
  {
   "cell_type": "markdown",
   "metadata": {},
   "source": [
    "##### У нас образовались некотрые пробелы в заполнении признака MedPriceByDistrict заполним их"
   ]
  },
  {
   "cell_type": "code",
   "execution_count": 84,
   "metadata": {},
   "outputs": [
    {
     "data": {
      "text/html": [
       "<div>\n",
       "<style scoped>\n",
       "    .dataframe tbody tr th:only-of-type {\n",
       "        vertical-align: middle;\n",
       "    }\n",
       "\n",
       "    .dataframe tbody tr th {\n",
       "        vertical-align: top;\n",
       "    }\n",
       "\n",
       "    .dataframe thead th {\n",
       "        text-align: right;\n",
       "    }\n",
       "</style>\n",
       "<table border=\"1\" class=\"dataframe\">\n",
       "  <thead>\n",
       "    <tr style=\"text-align: right;\">\n",
       "      <th></th>\n",
       "      <th>DistrictId</th>\n",
       "      <th>Rooms</th>\n",
       "      <th>MedPriceByDistrict</th>\n",
       "    </tr>\n",
       "  </thead>\n",
       "  <tbody>\n",
       "    <tr>\n",
       "      <th>0</th>\n",
       "      <td>0.0</td>\n",
       "      <td>1.0</td>\n",
       "      <td>142799.434052</td>\n",
       "    </tr>\n",
       "    <tr>\n",
       "      <th>1</th>\n",
       "      <td>0.0</td>\n",
       "      <td>2.0</td>\n",
       "      <td>176210.812334</td>\n",
       "    </tr>\n",
       "    <tr>\n",
       "      <th>2</th>\n",
       "      <td>0.0</td>\n",
       "      <td>3.0</td>\n",
       "      <td>300610.359425</td>\n",
       "    </tr>\n",
       "    <tr>\n",
       "      <th>3</th>\n",
       "      <td>1.0</td>\n",
       "      <td>1.0</td>\n",
       "      <td>146574.015522</td>\n",
       "    </tr>\n",
       "    <tr>\n",
       "      <th>4</th>\n",
       "      <td>1.0</td>\n",
       "      <td>2.0</td>\n",
       "      <td>202666.310126</td>\n",
       "    </tr>\n",
       "  </tbody>\n",
       "</table>\n",
       "</div>"
      ],
      "text/plain": [
       "   DistrictId  Rooms  MedPriceByDistrict\n",
       "0         0.0    1.0       142799.434052\n",
       "1         0.0    2.0       176210.812334\n",
       "2         0.0    3.0       300610.359425\n",
       "3         1.0    1.0       146574.015522\n",
       "4         1.0    2.0       202666.310126"
      ]
     },
     "execution_count": 84,
     "metadata": {},
     "output_type": "execute_result"
    }
   ],
   "source": [
    "med_price_by_district.head()"
   ]
  },
  {
   "cell_type": "code",
   "execution_count": 85,
   "metadata": {},
   "outputs": [
    {
     "data": {
      "text/html": [
       "<div>\n",
       "<style scoped>\n",
       "    .dataframe tbody tr th:only-of-type {\n",
       "        vertical-align: middle;\n",
       "    }\n",
       "\n",
       "    .dataframe tbody tr th {\n",
       "        vertical-align: top;\n",
       "    }\n",
       "\n",
       "    .dataframe thead th {\n",
       "        text-align: right;\n",
       "    }\n",
       "</style>\n",
       "<table border=\"1\" class=\"dataframe\">\n",
       "  <thead>\n",
       "    <tr style=\"text-align: right;\">\n",
       "      <th></th>\n",
       "      <th>Id</th>\n",
       "      <th>DistrictId</th>\n",
       "      <th>Rooms</th>\n",
       "      <th>Square</th>\n",
       "      <th>LifeSquare</th>\n",
       "      <th>KitchenSquare</th>\n",
       "      <th>Floor</th>\n",
       "      <th>HouseFloor</th>\n",
       "      <th>HouseYear</th>\n",
       "      <th>Ecology_1</th>\n",
       "      <th>...</th>\n",
       "      <th>Social_3</th>\n",
       "      <th>Healthcare_1</th>\n",
       "      <th>Helthcare_2</th>\n",
       "      <th>Shops_1</th>\n",
       "      <th>Shops_2</th>\n",
       "      <th>E_2</th>\n",
       "      <th>E_3</th>\n",
       "      <th>S_2</th>\n",
       "      <th>Square_round</th>\n",
       "      <th>MedPriceByDistrict</th>\n",
       "    </tr>\n",
       "  </thead>\n",
       "  <tbody>\n",
       "    <tr>\n",
       "      <th>0</th>\n",
       "      <td>725</td>\n",
       "      <td>58</td>\n",
       "      <td>2.0</td>\n",
       "      <td>49.882643</td>\n",
       "      <td>33.432782</td>\n",
       "      <td>6.0</td>\n",
       "      <td>6</td>\n",
       "      <td>14.0</td>\n",
       "      <td>1972</td>\n",
       "      <td>0.310199</td>\n",
       "      <td>...</td>\n",
       "      <td>1</td>\n",
       "      <td>900.0</td>\n",
       "      <td>0</td>\n",
       "      <td>0</td>\n",
       "      <td>B</td>\n",
       "      <td>1</td>\n",
       "      <td>1</td>\n",
       "      <td>1</td>\n",
       "      <td>50</td>\n",
       "      <td>166809.665642</td>\n",
       "    </tr>\n",
       "    <tr>\n",
       "      <th>1</th>\n",
       "      <td>15856</td>\n",
       "      <td>74</td>\n",
       "      <td>2.0</td>\n",
       "      <td>69.263183</td>\n",
       "      <td>51.212797</td>\n",
       "      <td>6.0</td>\n",
       "      <td>6</td>\n",
       "      <td>12.0</td>\n",
       "      <td>1977</td>\n",
       "      <td>0.075779</td>\n",
       "      <td>...</td>\n",
       "      <td>3</td>\n",
       "      <td>900.0</td>\n",
       "      <td>0</td>\n",
       "      <td>2</td>\n",
       "      <td>B</td>\n",
       "      <td>1</td>\n",
       "      <td>1</td>\n",
       "      <td>1</td>\n",
       "      <td>70</td>\n",
       "      <td>243031.695525</td>\n",
       "    </tr>\n",
       "    <tr>\n",
       "      <th>2</th>\n",
       "      <td>5480</td>\n",
       "      <td>190</td>\n",
       "      <td>1.0</td>\n",
       "      <td>15.948246</td>\n",
       "      <td>15.948246</td>\n",
       "      <td>12.0</td>\n",
       "      <td>2</td>\n",
       "      <td>5.0</td>\n",
       "      <td>1977</td>\n",
       "      <td>0.000000</td>\n",
       "      <td>...</td>\n",
       "      <td>87</td>\n",
       "      <td>810.0</td>\n",
       "      <td>5</td>\n",
       "      <td>5</td>\n",
       "      <td>B</td>\n",
       "      <td>1</td>\n",
       "      <td>1</td>\n",
       "      <td>1</td>\n",
       "      <td>20</td>\n",
       "      <td>NaN</td>\n",
       "    </tr>\n",
       "    <tr>\n",
       "      <th>3</th>\n",
       "      <td>15664</td>\n",
       "      <td>47</td>\n",
       "      <td>2.0</td>\n",
       "      <td>73.046609</td>\n",
       "      <td>51.940842</td>\n",
       "      <td>9.0</td>\n",
       "      <td>22</td>\n",
       "      <td>22.0</td>\n",
       "      <td>2007</td>\n",
       "      <td>0.101872</td>\n",
       "      <td>...</td>\n",
       "      <td>3</td>\n",
       "      <td>900.0</td>\n",
       "      <td>3</td>\n",
       "      <td>3</td>\n",
       "      <td>B</td>\n",
       "      <td>1</td>\n",
       "      <td>1</td>\n",
       "      <td>1</td>\n",
       "      <td>70</td>\n",
       "      <td>222227.584211</td>\n",
       "    </tr>\n",
       "    <tr>\n",
       "      <th>4</th>\n",
       "      <td>14275</td>\n",
       "      <td>27</td>\n",
       "      <td>1.0</td>\n",
       "      <td>47.527111</td>\n",
       "      <td>43.387569</td>\n",
       "      <td>6.0</td>\n",
       "      <td>17</td>\n",
       "      <td>17.0</td>\n",
       "      <td>2017</td>\n",
       "      <td>0.072158</td>\n",
       "      <td>...</td>\n",
       "      <td>1</td>\n",
       "      <td>900.0</td>\n",
       "      <td>0</td>\n",
       "      <td>0</td>\n",
       "      <td>A</td>\n",
       "      <td>1</td>\n",
       "      <td>1</td>\n",
       "      <td>2</td>\n",
       "      <td>50</td>\n",
       "      <td>118346.848790</td>\n",
       "    </tr>\n",
       "  </tbody>\n",
       "</table>\n",
       "<p>5 rows × 24 columns</p>\n",
       "</div>"
      ],
      "text/plain": [
       "      Id  DistrictId  Rooms     Square  LifeSquare  KitchenSquare  Floor  \\\n",
       "0    725          58    2.0  49.882643   33.432782            6.0      6   \n",
       "1  15856          74    2.0  69.263183   51.212797            6.0      6   \n",
       "2   5480         190    1.0  15.948246   15.948246           12.0      2   \n",
       "3  15664          47    2.0  73.046609   51.940842            9.0     22   \n",
       "4  14275          27    1.0  47.527111   43.387569            6.0     17   \n",
       "\n",
       "   HouseFloor  HouseYear  Ecology_1  ... Social_3 Healthcare_1  Helthcare_2  \\\n",
       "0        14.0       1972   0.310199  ...        1        900.0            0   \n",
       "1        12.0       1977   0.075779  ...        3        900.0            0   \n",
       "2         5.0       1977   0.000000  ...       87        810.0            5   \n",
       "3        22.0       2007   0.101872  ...        3        900.0            3   \n",
       "4        17.0       2017   0.072158  ...        1        900.0            0   \n",
       "\n",
       "   Shops_1  Shops_2  E_2  E_3  S_2 Square_round  MedPriceByDistrict  \n",
       "0        0        B    1    1    1           50       166809.665642  \n",
       "1        2        B    1    1    1           70       243031.695525  \n",
       "2        5        B    1    1    1           20                 NaN  \n",
       "3        3        B    1    1    1           70       222227.584211  \n",
       "4        0        A    1    1    2           50       118346.848790  \n",
       "\n",
       "[5 rows x 24 columns]"
      ]
     },
     "execution_count": 85,
     "metadata": {},
     "output_type": "execute_result"
    }
   ],
   "source": [
    "m = med_price_by_district.groupby(['DistrictId','Rooms']).median()\n",
    "\n",
    "df_test = df_test.merge(m, on = ['DistrictId','Rooms'], how='left')\n",
    "\n",
    "df_test.head()"
   ]
  },
  {
   "cell_type": "code",
   "execution_count": null,
   "metadata": {},
   "outputs": [],
   "source": [
    "#test_gap = df_test[(df_test['MedPriceByDistrict'].isnull())]"
   ]
  },
  {
   "cell_type": "code",
   "execution_count": null,
   "metadata": {},
   "outputs": [],
   "source": [
    "#med_train = df_train.groupby(['DistrictId']).median()['MedPriceByDistrict']/df_train.groupby(['DistrictId']).median()['Square']\n",
    "#med_train = pd.DataFrame(med_train,columns=['pp1m'])"
   ]
  },
  {
   "cell_type": "code",
   "execution_count": null,
   "metadata": {},
   "outputs": [],
   "source": [
    "#test_gap.head()"
   ]
  },
  {
   "cell_type": "code",
   "execution_count": null,
   "metadata": {},
   "outputs": [],
   "source": [
    "#test_gap = test_gap.merge(med_train, on = ['DistrictId'], how='left')\n",
    "#test_gap2 = test_gap[(test_gap['MedPriceByDistrict'].isnull())]"
   ]
  },
  {
   "cell_type": "code",
   "execution_count": null,
   "metadata": {},
   "outputs": [],
   "source": [
    "#test_gap.loc[test_gap['MedPriceByDistrict'].isnull(), 'MedPriceByDistrict'] = test_gap2['Square'] * med_train['pp1m'].median()"
   ]
  },
  {
   "cell_type": "code",
   "execution_count": 86,
   "metadata": {},
   "outputs": [],
   "source": [
    "df_test.loc[df_test['MedPriceByDistrict'].isnull(), 'MedPriceByDistrict'] = df_test['MedPriceByDistrict'].median()"
   ]
  },
  {
   "cell_type": "code",
   "execution_count": 87,
   "metadata": {},
   "outputs": [],
   "source": [
    "df_test = df_test.rename(columns={'Square_x':'Square'})"
   ]
  },
  {
   "cell_type": "code",
   "execution_count": 88,
   "metadata": {},
   "outputs": [
    {
     "data": {
      "text/html": [
       "<div>\n",
       "<style scoped>\n",
       "    .dataframe tbody tr th:only-of-type {\n",
       "        vertical-align: middle;\n",
       "    }\n",
       "\n",
       "    .dataframe tbody tr th {\n",
       "        vertical-align: top;\n",
       "    }\n",
       "\n",
       "    .dataframe thead th {\n",
       "        text-align: right;\n",
       "    }\n",
       "</style>\n",
       "<table border=\"1\" class=\"dataframe\">\n",
       "  <thead>\n",
       "    <tr style=\"text-align: right;\">\n",
       "      <th></th>\n",
       "      <th>Id</th>\n",
       "      <th>DistrictId</th>\n",
       "      <th>Rooms</th>\n",
       "      <th>Square</th>\n",
       "      <th>LifeSquare</th>\n",
       "      <th>KitchenSquare</th>\n",
       "      <th>Floor</th>\n",
       "      <th>HouseFloor</th>\n",
       "      <th>HouseYear</th>\n",
       "      <th>Ecology_1</th>\n",
       "      <th>...</th>\n",
       "      <th>Social_3</th>\n",
       "      <th>Healthcare_1</th>\n",
       "      <th>Helthcare_2</th>\n",
       "      <th>Shops_1</th>\n",
       "      <th>Shops_2</th>\n",
       "      <th>E_2</th>\n",
       "      <th>E_3</th>\n",
       "      <th>S_2</th>\n",
       "      <th>Square_round</th>\n",
       "      <th>MedPriceByDistrict</th>\n",
       "    </tr>\n",
       "  </thead>\n",
       "  <tbody>\n",
       "    <tr>\n",
       "      <th>0</th>\n",
       "      <td>725</td>\n",
       "      <td>58</td>\n",
       "      <td>2.0</td>\n",
       "      <td>49.882643</td>\n",
       "      <td>33.432782</td>\n",
       "      <td>6.0</td>\n",
       "      <td>6</td>\n",
       "      <td>14.0</td>\n",
       "      <td>1972</td>\n",
       "      <td>0.310199</td>\n",
       "      <td>...</td>\n",
       "      <td>1</td>\n",
       "      <td>900.0</td>\n",
       "      <td>0</td>\n",
       "      <td>0</td>\n",
       "      <td>B</td>\n",
       "      <td>1</td>\n",
       "      <td>1</td>\n",
       "      <td>1</td>\n",
       "      <td>50</td>\n",
       "      <td>166809.665642</td>\n",
       "    </tr>\n",
       "    <tr>\n",
       "      <th>1</th>\n",
       "      <td>15856</td>\n",
       "      <td>74</td>\n",
       "      <td>2.0</td>\n",
       "      <td>69.263183</td>\n",
       "      <td>51.212797</td>\n",
       "      <td>6.0</td>\n",
       "      <td>6</td>\n",
       "      <td>12.0</td>\n",
       "      <td>1977</td>\n",
       "      <td>0.075779</td>\n",
       "      <td>...</td>\n",
       "      <td>3</td>\n",
       "      <td>900.0</td>\n",
       "      <td>0</td>\n",
       "      <td>2</td>\n",
       "      <td>B</td>\n",
       "      <td>1</td>\n",
       "      <td>1</td>\n",
       "      <td>1</td>\n",
       "      <td>70</td>\n",
       "      <td>243031.695525</td>\n",
       "    </tr>\n",
       "    <tr>\n",
       "      <th>2</th>\n",
       "      <td>5480</td>\n",
       "      <td>190</td>\n",
       "      <td>1.0</td>\n",
       "      <td>15.948246</td>\n",
       "      <td>15.948246</td>\n",
       "      <td>12.0</td>\n",
       "      <td>2</td>\n",
       "      <td>5.0</td>\n",
       "      <td>1977</td>\n",
       "      <td>0.000000</td>\n",
       "      <td>...</td>\n",
       "      <td>87</td>\n",
       "      <td>810.0</td>\n",
       "      <td>5</td>\n",
       "      <td>5</td>\n",
       "      <td>B</td>\n",
       "      <td>1</td>\n",
       "      <td>1</td>\n",
       "      <td>1</td>\n",
       "      <td>20</td>\n",
       "      <td>197049.231078</td>\n",
       "    </tr>\n",
       "    <tr>\n",
       "      <th>3</th>\n",
       "      <td>15664</td>\n",
       "      <td>47</td>\n",
       "      <td>2.0</td>\n",
       "      <td>73.046609</td>\n",
       "      <td>51.940842</td>\n",
       "      <td>9.0</td>\n",
       "      <td>22</td>\n",
       "      <td>22.0</td>\n",
       "      <td>2007</td>\n",
       "      <td>0.101872</td>\n",
       "      <td>...</td>\n",
       "      <td>3</td>\n",
       "      <td>900.0</td>\n",
       "      <td>3</td>\n",
       "      <td>3</td>\n",
       "      <td>B</td>\n",
       "      <td>1</td>\n",
       "      <td>1</td>\n",
       "      <td>1</td>\n",
       "      <td>70</td>\n",
       "      <td>222227.584211</td>\n",
       "    </tr>\n",
       "    <tr>\n",
       "      <th>4</th>\n",
       "      <td>14275</td>\n",
       "      <td>27</td>\n",
       "      <td>1.0</td>\n",
       "      <td>47.527111</td>\n",
       "      <td>43.387569</td>\n",
       "      <td>6.0</td>\n",
       "      <td>17</td>\n",
       "      <td>17.0</td>\n",
       "      <td>2017</td>\n",
       "      <td>0.072158</td>\n",
       "      <td>...</td>\n",
       "      <td>1</td>\n",
       "      <td>900.0</td>\n",
       "      <td>0</td>\n",
       "      <td>0</td>\n",
       "      <td>A</td>\n",
       "      <td>1</td>\n",
       "      <td>1</td>\n",
       "      <td>2</td>\n",
       "      <td>50</td>\n",
       "      <td>118346.848790</td>\n",
       "    </tr>\n",
       "  </tbody>\n",
       "</table>\n",
       "<p>5 rows × 24 columns</p>\n",
       "</div>"
      ],
      "text/plain": [
       "      Id  DistrictId  Rooms     Square  LifeSquare  KitchenSquare  Floor  \\\n",
       "0    725          58    2.0  49.882643   33.432782            6.0      6   \n",
       "1  15856          74    2.0  69.263183   51.212797            6.0      6   \n",
       "2   5480         190    1.0  15.948246   15.948246           12.0      2   \n",
       "3  15664          47    2.0  73.046609   51.940842            9.0     22   \n",
       "4  14275          27    1.0  47.527111   43.387569            6.0     17   \n",
       "\n",
       "   HouseFloor  HouseYear  Ecology_1  ... Social_3 Healthcare_1  Helthcare_2  \\\n",
       "0        14.0       1972   0.310199  ...        1        900.0            0   \n",
       "1        12.0       1977   0.075779  ...        3        900.0            0   \n",
       "2         5.0       1977   0.000000  ...       87        810.0            5   \n",
       "3        22.0       2007   0.101872  ...        3        900.0            3   \n",
       "4        17.0       2017   0.072158  ...        1        900.0            0   \n",
       "\n",
       "   Shops_1  Shops_2  E_2  E_3  S_2 Square_round  MedPriceByDistrict  \n",
       "0        0        B    1    1    1           50       166809.665642  \n",
       "1        2        B    1    1    1           70       243031.695525  \n",
       "2        5        B    1    1    1           20       197049.231078  \n",
       "3        3        B    1    1    1           70       222227.584211  \n",
       "4        0        A    1    1    2           50       118346.848790  \n",
       "\n",
       "[5 rows x 24 columns]"
      ]
     },
     "execution_count": 88,
     "metadata": {},
     "output_type": "execute_result"
    }
   ],
   "source": [
    "df_test.head()"
   ]
  },
  {
   "cell_type": "markdown",
   "metadata": {},
   "source": [
    "##### Удалим ненужные колонки"
   ]
  },
  {
   "cell_type": "code",
   "execution_count": 89,
   "metadata": {},
   "outputs": [],
   "source": [
    "#df_train = df_train.drop(df_train[(df_train['Square'] < smin) & (df_train['Price'] < pmin)].index)\n",
    "df_test = df_test.drop('Shops_2', axis=1)"
   ]
  },
  {
   "cell_type": "code",
   "execution_count": null,
   "metadata": {},
   "outputs": [],
   "source": [
    "#df_test = df_test.drop('HouseYear_y', axis=1)"
   ]
  },
  {
   "cell_type": "code",
   "execution_count": null,
   "metadata": {},
   "outputs": [],
   "source": [
    "#df_test = df_test.drop('Floor_y', axis=1)"
   ]
  },
  {
   "cell_type": "code",
   "execution_count": 90,
   "metadata": {},
   "outputs": [],
   "source": [
    "df_test = df_test.drop('Ecology_2', axis=1)"
   ]
  },
  {
   "cell_type": "code",
   "execution_count": 91,
   "metadata": {},
   "outputs": [],
   "source": [
    "df_test = df_test.drop('Ecology_3', axis=1)"
   ]
  },
  {
   "cell_type": "markdown",
   "metadata": {},
   "source": [
    "##### Проверим что нет null значений"
   ]
  },
  {
   "cell_type": "code",
   "execution_count": 92,
   "metadata": {},
   "outputs": [
    {
     "data": {
      "text/plain": [
       "Id                    False\n",
       "DistrictId            False\n",
       "Rooms                 False\n",
       "Square                False\n",
       "LifeSquare            False\n",
       "KitchenSquare         False\n",
       "Floor                 False\n",
       "HouseFloor            False\n",
       "HouseYear             False\n",
       "Ecology_1             False\n",
       "Social_1              False\n",
       "Social_2              False\n",
       "Social_3              False\n",
       "Healthcare_1          False\n",
       "Helthcare_2           False\n",
       "Shops_1               False\n",
       "E_2                   False\n",
       "E_3                   False\n",
       "S_2                   False\n",
       "Square_round          False\n",
       "MedPriceByDistrict    False\n",
       "dtype: bool"
      ]
     },
     "execution_count": 92,
     "metadata": {},
     "output_type": "execute_result"
    }
   ],
   "source": [
    "df_test.isnull().any()"
   ]
  },
  {
   "cell_type": "markdown",
   "metadata": {},
   "source": [
    "##### Сделаем предсказания цен"
   ]
  },
  {
   "cell_type": "code",
   "execution_count": 93,
   "metadata": {},
   "outputs": [
    {
     "data": {
      "text/html": [
       "<div>\n",
       "<style scoped>\n",
       "    .dataframe tbody tr th:only-of-type {\n",
       "        vertical-align: middle;\n",
       "    }\n",
       "\n",
       "    .dataframe tbody tr th {\n",
       "        vertical-align: top;\n",
       "    }\n",
       "\n",
       "    .dataframe thead th {\n",
       "        text-align: right;\n",
       "    }\n",
       "</style>\n",
       "<table border=\"1\" class=\"dataframe\">\n",
       "  <thead>\n",
       "    <tr style=\"text-align: right;\">\n",
       "      <th></th>\n",
       "      <th>Id</th>\n",
       "      <th>DistrictId</th>\n",
       "      <th>Rooms</th>\n",
       "      <th>Square</th>\n",
       "      <th>LifeSquare</th>\n",
       "      <th>KitchenSquare</th>\n",
       "      <th>Floor</th>\n",
       "      <th>HouseFloor</th>\n",
       "      <th>HouseYear</th>\n",
       "      <th>Ecology_1</th>\n",
       "      <th>...</th>\n",
       "      <th>Social_2</th>\n",
       "      <th>Social_3</th>\n",
       "      <th>Healthcare_1</th>\n",
       "      <th>Helthcare_2</th>\n",
       "      <th>Shops_1</th>\n",
       "      <th>E_2</th>\n",
       "      <th>E_3</th>\n",
       "      <th>S_2</th>\n",
       "      <th>Square_round</th>\n",
       "      <th>MedPriceByDistrict</th>\n",
       "    </tr>\n",
       "  </thead>\n",
       "  <tbody>\n",
       "    <tr>\n",
       "      <th>0</th>\n",
       "      <td>725</td>\n",
       "      <td>58</td>\n",
       "      <td>2.0</td>\n",
       "      <td>49.882643</td>\n",
       "      <td>33.432782</td>\n",
       "      <td>6.0</td>\n",
       "      <td>6</td>\n",
       "      <td>14.0</td>\n",
       "      <td>1972</td>\n",
       "      <td>0.310199</td>\n",
       "      <td>...</td>\n",
       "      <td>2748</td>\n",
       "      <td>1</td>\n",
       "      <td>900.0</td>\n",
       "      <td>0</td>\n",
       "      <td>0</td>\n",
       "      <td>1</td>\n",
       "      <td>1</td>\n",
       "      <td>1</td>\n",
       "      <td>50</td>\n",
       "      <td>166809.665642</td>\n",
       "    </tr>\n",
       "    <tr>\n",
       "      <th>1</th>\n",
       "      <td>15856</td>\n",
       "      <td>74</td>\n",
       "      <td>2.0</td>\n",
       "      <td>69.263183</td>\n",
       "      <td>51.212797</td>\n",
       "      <td>6.0</td>\n",
       "      <td>6</td>\n",
       "      <td>12.0</td>\n",
       "      <td>1977</td>\n",
       "      <td>0.075779</td>\n",
       "      <td>...</td>\n",
       "      <td>1437</td>\n",
       "      <td>3</td>\n",
       "      <td>900.0</td>\n",
       "      <td>0</td>\n",
       "      <td>2</td>\n",
       "      <td>1</td>\n",
       "      <td>1</td>\n",
       "      <td>1</td>\n",
       "      <td>70</td>\n",
       "      <td>243031.695525</td>\n",
       "    </tr>\n",
       "    <tr>\n",
       "      <th>2</th>\n",
       "      <td>5480</td>\n",
       "      <td>190</td>\n",
       "      <td>1.0</td>\n",
       "      <td>15.948246</td>\n",
       "      <td>15.948246</td>\n",
       "      <td>12.0</td>\n",
       "      <td>2</td>\n",
       "      <td>5.0</td>\n",
       "      <td>1977</td>\n",
       "      <td>0.000000</td>\n",
       "      <td>...</td>\n",
       "      <td>7538</td>\n",
       "      <td>87</td>\n",
       "      <td>810.0</td>\n",
       "      <td>5</td>\n",
       "      <td>5</td>\n",
       "      <td>1</td>\n",
       "      <td>1</td>\n",
       "      <td>1</td>\n",
       "      <td>20</td>\n",
       "      <td>197049.231078</td>\n",
       "    </tr>\n",
       "    <tr>\n",
       "      <th>3</th>\n",
       "      <td>15664</td>\n",
       "      <td>47</td>\n",
       "      <td>2.0</td>\n",
       "      <td>73.046609</td>\n",
       "      <td>51.940842</td>\n",
       "      <td>9.0</td>\n",
       "      <td>22</td>\n",
       "      <td>22.0</td>\n",
       "      <td>2007</td>\n",
       "      <td>0.101872</td>\n",
       "      <td>...</td>\n",
       "      <td>4583</td>\n",
       "      <td>3</td>\n",
       "      <td>900.0</td>\n",
       "      <td>3</td>\n",
       "      <td>3</td>\n",
       "      <td>1</td>\n",
       "      <td>1</td>\n",
       "      <td>1</td>\n",
       "      <td>70</td>\n",
       "      <td>222227.584211</td>\n",
       "    </tr>\n",
       "    <tr>\n",
       "      <th>4</th>\n",
       "      <td>14275</td>\n",
       "      <td>27</td>\n",
       "      <td>1.0</td>\n",
       "      <td>47.527111</td>\n",
       "      <td>43.387569</td>\n",
       "      <td>6.0</td>\n",
       "      <td>17</td>\n",
       "      <td>17.0</td>\n",
       "      <td>2017</td>\n",
       "      <td>0.072158</td>\n",
       "      <td>...</td>\n",
       "      <td>629</td>\n",
       "      <td>1</td>\n",
       "      <td>900.0</td>\n",
       "      <td>0</td>\n",
       "      <td>0</td>\n",
       "      <td>1</td>\n",
       "      <td>1</td>\n",
       "      <td>2</td>\n",
       "      <td>50</td>\n",
       "      <td>118346.848790</td>\n",
       "    </tr>\n",
       "  </tbody>\n",
       "</table>\n",
       "<p>5 rows × 21 columns</p>\n",
       "</div>"
      ],
      "text/plain": [
       "      Id  DistrictId  Rooms     Square  LifeSquare  KitchenSquare  Floor  \\\n",
       "0    725          58    2.0  49.882643   33.432782            6.0      6   \n",
       "1  15856          74    2.0  69.263183   51.212797            6.0      6   \n",
       "2   5480         190    1.0  15.948246   15.948246           12.0      2   \n",
       "3  15664          47    2.0  73.046609   51.940842            9.0     22   \n",
       "4  14275          27    1.0  47.527111   43.387569            6.0     17   \n",
       "\n",
       "   HouseFloor  HouseYear  Ecology_1  ...  Social_2  Social_3  Healthcare_1  \\\n",
       "0        14.0       1972   0.310199  ...      2748         1         900.0   \n",
       "1        12.0       1977   0.075779  ...      1437         3         900.0   \n",
       "2         5.0       1977   0.000000  ...      7538        87         810.0   \n",
       "3        22.0       2007   0.101872  ...      4583         3         900.0   \n",
       "4        17.0       2017   0.072158  ...       629         1         900.0   \n",
       "\n",
       "   Helthcare_2  Shops_1  E_2  E_3  S_2  Square_round  MedPriceByDistrict  \n",
       "0            0        0    1    1    1            50       166809.665642  \n",
       "1            0        2    1    1    1            70       243031.695525  \n",
       "2            5        5    1    1    1            20       197049.231078  \n",
       "3            3        3    1    1    1            70       222227.584211  \n",
       "4            0        0    1    1    2            50       118346.848790  \n",
       "\n",
       "[5 rows x 21 columns]"
      ]
     },
     "execution_count": 93,
     "metadata": {},
     "output_type": "execute_result"
    }
   ],
   "source": [
    "df_test.head()"
   ]
  },
  {
   "cell_type": "code",
   "execution_count": 94,
   "metadata": {},
   "outputs": [
    {
     "data": {
      "text/html": [
       "<div>\n",
       "<style scoped>\n",
       "    .dataframe tbody tr th:only-of-type {\n",
       "        vertical-align: middle;\n",
       "    }\n",
       "\n",
       "    .dataframe tbody tr th {\n",
       "        vertical-align: top;\n",
       "    }\n",
       "\n",
       "    .dataframe thead th {\n",
       "        text-align: right;\n",
       "    }\n",
       "</style>\n",
       "<table border=\"1\" class=\"dataframe\">\n",
       "  <thead>\n",
       "    <tr style=\"text-align: right;\">\n",
       "      <th></th>\n",
       "      <th>Id</th>\n",
       "      <th>DistrictId</th>\n",
       "      <th>Rooms</th>\n",
       "      <th>Square</th>\n",
       "      <th>LifeSquare</th>\n",
       "      <th>KitchenSquare</th>\n",
       "      <th>Floor</th>\n",
       "      <th>HouseFloor</th>\n",
       "      <th>HouseYear</th>\n",
       "      <th>Ecology_1</th>\n",
       "      <th>...</th>\n",
       "      <th>Shops_1</th>\n",
       "      <th>Shops_2</th>\n",
       "      <th>Price</th>\n",
       "      <th>E_2</th>\n",
       "      <th>E_3</th>\n",
       "      <th>S_2</th>\n",
       "      <th>Square_round</th>\n",
       "      <th>DistrictSize</th>\n",
       "      <th>IsDistrictLarge</th>\n",
       "      <th>MedPriceByDistrict</th>\n",
       "    </tr>\n",
       "  </thead>\n",
       "  <tbody>\n",
       "    <tr>\n",
       "      <th>0</th>\n",
       "      <td>14038.0</td>\n",
       "      <td>35.0</td>\n",
       "      <td>2.0</td>\n",
       "      <td>47.981561</td>\n",
       "      <td>29.442751</td>\n",
       "      <td>6.0</td>\n",
       "      <td>7.0</td>\n",
       "      <td>9.0</td>\n",
       "      <td>1969.0</td>\n",
       "      <td>0.089040</td>\n",
       "      <td>...</td>\n",
       "      <td>11.0</td>\n",
       "      <td>B</td>\n",
       "      <td>184966.930730</td>\n",
       "      <td>1.0</td>\n",
       "      <td>1.0</td>\n",
       "      <td>1.0</td>\n",
       "      <td>50</td>\n",
       "      <td>22</td>\n",
       "      <td>0</td>\n",
       "      <td>207786.135836</td>\n",
       "    </tr>\n",
       "    <tr>\n",
       "      <th>1</th>\n",
       "      <td>15053.0</td>\n",
       "      <td>41.0</td>\n",
       "      <td>3.0</td>\n",
       "      <td>65.683640</td>\n",
       "      <td>40.049543</td>\n",
       "      <td>8.0</td>\n",
       "      <td>7.0</td>\n",
       "      <td>9.0</td>\n",
       "      <td>1978.0</td>\n",
       "      <td>0.000070</td>\n",
       "      <td>...</td>\n",
       "      <td>16.0</td>\n",
       "      <td>B</td>\n",
       "      <td>300009.450063</td>\n",
       "      <td>1.0</td>\n",
       "      <td>1.0</td>\n",
       "      <td>1.0</td>\n",
       "      <td>60</td>\n",
       "      <td>87</td>\n",
       "      <td>0</td>\n",
       "      <td>300009.450063</td>\n",
       "    </tr>\n",
       "    <tr>\n",
       "      <th>2</th>\n",
       "      <td>4765.0</td>\n",
       "      <td>53.0</td>\n",
       "      <td>2.0</td>\n",
       "      <td>44.947953</td>\n",
       "      <td>29.197612</td>\n",
       "      <td>6.0</td>\n",
       "      <td>8.0</td>\n",
       "      <td>12.0</td>\n",
       "      <td>1968.0</td>\n",
       "      <td>0.049637</td>\n",
       "      <td>...</td>\n",
       "      <td>3.0</td>\n",
       "      <td>B</td>\n",
       "      <td>220925.908524</td>\n",
       "      <td>1.0</td>\n",
       "      <td>1.0</td>\n",
       "      <td>1.0</td>\n",
       "      <td>40</td>\n",
       "      <td>174</td>\n",
       "      <td>1</td>\n",
       "      <td>263206.223152</td>\n",
       "    </tr>\n",
       "    <tr>\n",
       "      <th>3</th>\n",
       "      <td>5809.0</td>\n",
       "      <td>58.0</td>\n",
       "      <td>2.0</td>\n",
       "      <td>53.352981</td>\n",
       "      <td>52.731512</td>\n",
       "      <td>9.0</td>\n",
       "      <td>8.0</td>\n",
       "      <td>17.0</td>\n",
       "      <td>1977.0</td>\n",
       "      <td>0.437885</td>\n",
       "      <td>...</td>\n",
       "      <td>5.0</td>\n",
       "      <td>B</td>\n",
       "      <td>175616.227217</td>\n",
       "      <td>1.0</td>\n",
       "      <td>1.0</td>\n",
       "      <td>1.0</td>\n",
       "      <td>50</td>\n",
       "      <td>179</td>\n",
       "      <td>1</td>\n",
       "      <td>166809.665642</td>\n",
       "    </tr>\n",
       "    <tr>\n",
       "      <th>4</th>\n",
       "      <td>10783.0</td>\n",
       "      <td>99.0</td>\n",
       "      <td>1.0</td>\n",
       "      <td>39.649192</td>\n",
       "      <td>23.776169</td>\n",
       "      <td>7.0</td>\n",
       "      <td>11.0</td>\n",
       "      <td>12.0</td>\n",
       "      <td>1976.0</td>\n",
       "      <td>0.012339</td>\n",
       "      <td>...</td>\n",
       "      <td>4.0</td>\n",
       "      <td>B</td>\n",
       "      <td>150226.531644</td>\n",
       "      <td>1.0</td>\n",
       "      <td>1.0</td>\n",
       "      <td>1.0</td>\n",
       "      <td>40</td>\n",
       "      <td>97</td>\n",
       "      <td>0</td>\n",
       "      <td>158539.052715</td>\n",
       "    </tr>\n",
       "  </tbody>\n",
       "</table>\n",
       "<p>5 rows × 27 columns</p>\n",
       "</div>"
      ],
      "text/plain": [
       "        Id  DistrictId  Rooms     Square  LifeSquare  KitchenSquare  Floor  \\\n",
       "0  14038.0        35.0    2.0  47.981561   29.442751            6.0    7.0   \n",
       "1  15053.0        41.0    3.0  65.683640   40.049543            8.0    7.0   \n",
       "2   4765.0        53.0    2.0  44.947953   29.197612            6.0    8.0   \n",
       "3   5809.0        58.0    2.0  53.352981   52.731512            9.0    8.0   \n",
       "4  10783.0        99.0    1.0  39.649192   23.776169            7.0   11.0   \n",
       "\n",
       "   HouseFloor  HouseYear  Ecology_1  ... Shops_1 Shops_2          Price  E_2  \\\n",
       "0         9.0     1969.0   0.089040  ...    11.0       B  184966.930730  1.0   \n",
       "1         9.0     1978.0   0.000070  ...    16.0       B  300009.450063  1.0   \n",
       "2        12.0     1968.0   0.049637  ...     3.0       B  220925.908524  1.0   \n",
       "3        17.0     1977.0   0.437885  ...     5.0       B  175616.227217  1.0   \n",
       "4        12.0     1976.0   0.012339  ...     4.0       B  150226.531644  1.0   \n",
       "\n",
       "   E_3  S_2  Square_round  DistrictSize IsDistrictLarge  MedPriceByDistrict  \n",
       "0  1.0  1.0            50            22               0       207786.135836  \n",
       "1  1.0  1.0            60            87               0       300009.450063  \n",
       "2  1.0  1.0            40           174               1       263206.223152  \n",
       "3  1.0  1.0            50           179               1       166809.665642  \n",
       "4  1.0  1.0            40            97               0       158539.052715  \n",
       "\n",
       "[5 rows x 27 columns]"
      ]
     },
     "execution_count": 94,
     "metadata": {},
     "output_type": "execute_result"
    }
   ],
   "source": [
    "df_train.head()"
   ]
  },
  {
   "cell_type": "code",
   "execution_count": 95,
   "metadata": {},
   "outputs": [],
   "source": [
    "a = rf_model.predict(df_test)"
   ]
  },
  {
   "cell_type": "code",
   "execution_count": 96,
   "metadata": {},
   "outputs": [
    {
     "data": {
      "text/html": [
       "<div>\n",
       "<style scoped>\n",
       "    .dataframe tbody tr th:only-of-type {\n",
       "        vertical-align: middle;\n",
       "    }\n",
       "\n",
       "    .dataframe tbody tr th {\n",
       "        vertical-align: top;\n",
       "    }\n",
       "\n",
       "    .dataframe thead th {\n",
       "        text-align: right;\n",
       "    }\n",
       "</style>\n",
       "<table border=\"1\" class=\"dataframe\">\n",
       "  <thead>\n",
       "    <tr style=\"text-align: right;\">\n",
       "      <th></th>\n",
       "      <th>Price</th>\n",
       "    </tr>\n",
       "  </thead>\n",
       "  <tbody>\n",
       "    <tr>\n",
       "      <th>0</th>\n",
       "      <td>139779.332563</td>\n",
       "    </tr>\n",
       "    <tr>\n",
       "      <th>1</th>\n",
       "      <td>191035.947130</td>\n",
       "    </tr>\n",
       "    <tr>\n",
       "      <th>2</th>\n",
       "      <td>198202.909424</td>\n",
       "    </tr>\n",
       "    <tr>\n",
       "      <th>3</th>\n",
       "      <td>211649.562232</td>\n",
       "    </tr>\n",
       "    <tr>\n",
       "      <th>4</th>\n",
       "      <td>57371.670676</td>\n",
       "    </tr>\n",
       "  </tbody>\n",
       "</table>\n",
       "</div>"
      ],
      "text/plain": [
       "           Price\n",
       "0  139779.332563\n",
       "1  191035.947130\n",
       "2  198202.909424\n",
       "3  211649.562232\n",
       "4   57371.670676"
      ]
     },
     "execution_count": 96,
     "metadata": {},
     "output_type": "execute_result"
    }
   ],
   "source": [
    "a = pd.DataFrame(a,columns=['Price'])\n",
    "a.head()"
   ]
  },
  {
   "cell_type": "markdown",
   "metadata": {},
   "source": [
    "##### Проверим длинну нашего датафрейма"
   ]
  },
  {
   "cell_type": "code",
   "execution_count": 97,
   "metadata": {},
   "outputs": [
    {
     "data": {
      "text/plain": [
       "5000"
      ]
     },
     "execution_count": 97,
     "metadata": {},
     "output_type": "execute_result"
    }
   ],
   "source": [
    "len(a)"
   ]
  },
  {
   "cell_type": "markdown",
   "metadata": {},
   "source": [
    "##### объединим нужные колонки и выгрузим в файл"
   ]
  },
  {
   "cell_type": "code",
   "execution_count": 98,
   "metadata": {},
   "outputs": [],
   "source": [
    "result = pd.concat([df_test['Id'].astype(int) , a['Price']], axis=1, sort=False)\n",
    "\n",
    "result.to_csv(filename,index=False,encoding='utf-8')"
   ]
  },
  {
   "cell_type": "code",
   "execution_count": 99,
   "metadata": {},
   "outputs": [
    {
     "data": {
      "text/html": [
       "<div>\n",
       "<style scoped>\n",
       "    .dataframe tbody tr th:only-of-type {\n",
       "        vertical-align: middle;\n",
       "    }\n",
       "\n",
       "    .dataframe tbody tr th {\n",
       "        vertical-align: top;\n",
       "    }\n",
       "\n",
       "    .dataframe thead th {\n",
       "        text-align: right;\n",
       "    }\n",
       "</style>\n",
       "<table border=\"1\" class=\"dataframe\">\n",
       "  <thead>\n",
       "    <tr style=\"text-align: right;\">\n",
       "      <th></th>\n",
       "      <th>Price</th>\n",
       "    </tr>\n",
       "  </thead>\n",
       "  <tbody>\n",
       "    <tr>\n",
       "      <th>0</th>\n",
       "      <td>139779.332563</td>\n",
       "    </tr>\n",
       "    <tr>\n",
       "      <th>1</th>\n",
       "      <td>191035.947130</td>\n",
       "    </tr>\n",
       "    <tr>\n",
       "      <th>2</th>\n",
       "      <td>198202.909424</td>\n",
       "    </tr>\n",
       "    <tr>\n",
       "      <th>3</th>\n",
       "      <td>211649.562232</td>\n",
       "    </tr>\n",
       "    <tr>\n",
       "      <th>4</th>\n",
       "      <td>57371.670676</td>\n",
       "    </tr>\n",
       "  </tbody>\n",
       "</table>\n",
       "</div>"
      ],
      "text/plain": [
       "           Price\n",
       "0  139779.332563\n",
       "1  191035.947130\n",
       "2  198202.909424\n",
       "3  211649.562232\n",
       "4   57371.670676"
      ]
     },
     "execution_count": 99,
     "metadata": {},
     "output_type": "execute_result"
    }
   ],
   "source": [
    "a.head()"
   ]
  }
 ],
 "metadata": {
  "kernelspec": {
   "display_name": "Python 3",
   "language": "python",
   "name": "python3"
  },
  "language_info": {
   "codemirror_mode": {
    "name": "ipython",
    "version": 3
   },
   "file_extension": ".py",
   "mimetype": "text/x-python",
   "name": "python",
   "nbconvert_exporter": "python",
   "pygments_lexer": "ipython3",
   "version": "3.7.3"
  }
 },
 "nbformat": 4,
 "nbformat_minor": 2
}
